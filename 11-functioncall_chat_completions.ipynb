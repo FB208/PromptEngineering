{
 "cells": [
  {
   "cell_type": "markdown",
   "metadata": {},
   "source": [
    "# 步骤1：给大模型提供一个可以调用的函数\n",
    "\n",
    "在这个示例中，假设您希望允许模型调用代码库中的 `get_weather` 函数，该函数接受一个 `city` 并查询对应城市的天气\n",
    "\n",
    "下面这个函数可以传入如\"TianJin\"、\"HangZhou\"、\"ShenZhen\"等城市名\n",
    "\n",
    "返回该城市的天气和温度，格式如：{\"temperature\": 31, \"weather_descriptions\": [\"Sunny\"]}\n"
   ]
  },
  {
   "cell_type": "code",
   "execution_count": 2,
   "metadata": {},
   "outputs": [
    {
     "name": "stdout",
     "output_type": "stream",
     "text": [
      "{\"temperature\": 31, \"weather_descriptions\": [\"Sunny\"]}\n"
     ]
    },
    {
     "data": {
      "text/plain": [
       "'{\"temperature\": 31, \"weather_descriptions\": [\"Sunny\"]}'"
      ]
     },
     "execution_count": 2,
     "metadata": {},
     "output_type": "execute_result"
    }
   ],
   "source": [
    "import os\n",
    "from dotenv import load_dotenv\n",
    "import requests\n",
    "import json\n",
    "\n",
    "def get_weather(city:str):\n",
    "    # Load environment variables from .env file\n",
    "    load_dotenv()\n",
    "\n",
    "    # Get the access key from the environment variables\n",
    "    access_key = os.getenv('WEATHER_ACCESS_KEY')\n",
    "\n",
    "    # Define the API URL with the access key\n",
    "    url = f\"https://api.weatherstack.com/current?access_key={access_key}&query=TianJin\"\n",
    "\n",
    "    payload = {}\n",
    "    headers = {}\n",
    "\n",
    "    # Make the API request\n",
    "    response = requests.get(url, headers=headers, data=payload)\n",
    "    res_json = json.loads(response.text)\n",
    "\n",
    "\n",
    "    # 创建新的 JSON 对象，只保留 temperature 和 weather_descriptions 两个参数\n",
    "    new_data = {\n",
    "        \"temperature\": res_json[\"current\"][\"temperature\"],\n",
    "        \"weather_descriptions\": res_json[\"current\"][\"weather_descriptions\"]\n",
    "    }\n",
    "    # 将新的 JSON 对象转换为 JSON 字符串\n",
    "    new_json = json.dumps(new_data)\n",
    "    \n",
    "    # Print the response text\n",
    "    print(new_json)\n",
    "    return new_json\n",
    "\n",
    "# get_weather(\"TianJin\")\n",
    "\n"
   ]
  },
  {
   "cell_type": "markdown",
   "metadata": {},
   "source": [
    "# 步骤2：向模型描述函数，以便模型知道如何调用\n",
    "现在我们清楚了希望模型调用的函数，接下来将创建一个“函数定义”，向模型描述该函数。此定义既说明了函数的功能（以及可能何时应调用它），也指明了调用函数所需的参数。\n",
    "\n",
    "函数定义的参数部分应使用 JSON Schema 进行描述。当模型生成函数调用时，它将依据您提供的模式生成参数。\n",
    "\n",
    "在这个示例中，它可能看起来像这样：\n",
    "``` json\n",
    "{\n",
    "    \"name\": \"get_weather\",\n",
    "    \"description\": \"获取某个城市的天气。每当您需要知道天气时，请调用此命令，例如当用户询问“天津今天天气如何”时\",\n",
    "    \"parameters\": {\n",
    "        \"type\": \"object\",\n",
    "        \"properties\": {\n",
    "            \"city\": {\n",
    "                \"type\": \"string\",\n",
    "                \"description\": \"城市的拼音，如天津市是'TianJin'\",\n",
    "            },\n",
    "        },\n",
    "        \"required\": [\"city\"],\n",
    "        \"additionalProperties\": False,\n",
    "    }\n",
    "}\n",
    "\n",
    "```"
   ]
  },
  {
   "cell_type": "markdown",
   "metadata": {},
   "source": [
    "# 步骤3：将函数定义作为“工具”传递给模型，同时附上消息\n",
    "接下来，我们需要在调用聊天补全 API 时，在可用“tools”数组中提供我们的函数定义。\n",
    "\n",
    "一如既往，我们将提供一系列“消息”，这些消息可能包含您的提示，或者用户与助手之间完整的来回对话。\n",
    "\n",
    "此示例展示了如何调用聊天补全 API，为处理商店客户咨询的助手提供相关函数和消息。"
   ]
  },
  {
   "cell_type": "code",
   "execution_count": 18,
   "metadata": {},
   "outputs": [
    {
     "name": "stdout",
     "output_type": "stream",
     "text": [
      "ChatCompletion(id='chatcmpl-9wjDmhDYIJrpOeJoqETyuZZwrQBT2', choices=[Choice(finish_reason='tool_calls', index=0, logprobs=None, message=ChatCompletionMessage(content=None, refusal=None, role='assistant', function_call=None, tool_calls=[ChatCompletionMessageToolCall(id='call_w8whUQQ5yjqV89zITHl24DKg', function=Function(arguments='{\"city\":\"BeiJing\"}', name='get_weather'), type='function')]))], created=1723783882, model='gpt-4o-mini-2024-07-18', object='chat.completion', service_tier=None, system_fingerprint='fp_48196bc67a', usage=CompletionUsage(completion_tokens=16, prompt_tokens=111, total_tokens=127))\n"
     ]
    }
   ],
   "source": [
    "from openai import OpenAI\n",
    "\n",
    "def talk_to_assistant(prompt):\n",
    "    tools = [\n",
    "        {\n",
    "            \"type\": \"function\",\n",
    "            \"function\": {\n",
    "                \"name\": \"get_weather\",\n",
    "                \"description\": \"获取某个城市的天气。每当您需要知道天气时，请调用此命令，例如当用户询问“天津今天天气如何”时\",\n",
    "                \"parameters\": {\n",
    "                    \"type\": \"object\",\n",
    "                    \"properties\": {\n",
    "                        \"city\": {\n",
    "                            \"type\": \"string\",\n",
    "                            \"description\": \"城市的拼音，如天津市是'TianJin'\",\n",
    "                        },\n",
    "                    },\n",
    "                    \"required\": [\"city\"],\n",
    "                    \"additionalProperties\": False,\n",
    "                }\n",
    "            }   \n",
    "        }\n",
    "    ]\n",
    "\n",
    "    messages = [\n",
    "        {\"role\": \"system\", \"content\": \"你是一个乐于助人的客户支持助理。使用提供的工具来帮助用户。\"},\n",
    "        {\"role\": \"user\", \"content\": prompt}\n",
    "    ]\n",
    "\n",
    "    client = OpenAI()\n",
    "\n",
    "    completion = client.chat.completions.create(\n",
    "        model=\"gpt-4o-mini\",\n",
    "        messages=messages,\n",
    "        tools=tools,\n",
    "    )\n",
    "\n",
    "    print(completion)\n",
    "    return completion\n",
    "\n",
    "completion = talk_to_assistant(\"今天北京的天气如何？\")"
   ]
  },
  {
   "cell_type": "markdown",
   "metadata": {},
   "source": [
    "# 步骤4：接收并处理模型响应\n",
    "## 如果模型决定不应调用任何函数\n",
    "如果模型未生成函数调用，则响应将按照 Chat Completions 的常规方式直接回复用户。\n",
    "\n",
    "例如，在这种情况下，chat_response.choices[0].message 可能包含：\n",
    "\n",
    "```\n",
    "chat.completionsMessage(content='Hi there! I can help with that. Can you please provide your order ID?', role='assistant', function_call=None, tool_calls=None)\n",
    "```\n",
    "\n",
    "这说明大模型未能从对话中获取调用函数所需的参数，需要进入异常处理流程\n",
    "\n",
    "## 如果模型生成了一个函数调用\n",
    "如果模型生成了一个函数调用，它将根据您提供的参数定义生成调用的参数。\n",
    "\n",
    "咱们步骤三如果执行成功的话，正常的响应是这样的：\n",
    "```\n",
    "ChatCompletion(id='chatcmpl-9wi1GmADOIWaZUagaPgvW5DYLFzlW', choices=[Choice(finish_reason='tool_calls', index=0, logprobs=None, message=ChatCompletionMessage(content=None, refusal=None, role='assistant', function_call=None, tool_calls=[ChatCompletionMessageToolCall(id='call_LrGoJZpWmUgc9yoKbwzxHCHa', function=Function(arguments='{\"city\":\"BeiJing\"}', name='get_weather'), type='function')]))], created=1723779262, model='gpt-4o-mini-2024-07-18', object='chat.completion', service_tier=None, system_fingerprint='fp_507c9469a1', usage=CompletionUsage(completion_tokens=16, prompt_tokens=111, total_tokens=127))\n",
    "```\n",
    "\n",
    "咱们挑出里面有用的部分\n",
    "```\n",
    "Choice(\n",
    "\tfinish_reason='tool_calls', \n",
    "\tindex=0, \n",
    "\tlogprobs=None, \n",
    "\tmessage=ChatCompletionMessage(\n",
    "\t\tcontent=None, \n",
    "\t\trefusal=None, \n",
    "\t\trole='assistant', \n",
    "\t\tfunction_call=None, \n",
    "\t\ttool_calls=[\n",
    "\t\t\tChatCompletionMessageToolCall(\n",
    "\t\t\t\tid='call_LrGoJZpWmUgc9yoKbwzxHCHa', \n",
    "                # 其实最有用的就这一行，其他的是用于判断大模型返回结果是否正常的，各种异常情况需要根据实际业务来处理，咱这里不展开了\n",
    "\t\t\t\tfunction=Function(arguments='{\"city\":\"BeiJing\"}', name='get_weather'), type='function'\n",
    "\t\t\t)\n",
    "\t\t]\n",
    "\t)\n",
    ")\n",
    "```"
   ]
  },
  {
   "cell_type": "code",
   "execution_count": 31,
   "metadata": {},
   "outputs": [
    {
     "name": "stdout",
     "output_type": "stream",
     "text": [
      "BeiJing\n",
      "get_weather\n",
      "{\"temperature\": 31, \"weather_descriptions\": [\"Partly cloudy\"]}\n",
      "{\"temperature\": 31, \"weather_descriptions\": [\"Partly cloudy\"]}\n"
     ]
    },
    {
     "data": {
      "text/plain": [
       "'{\"temperature\": 31, \"weather_descriptions\": [\"Partly cloudy\"]}'"
      ]
     },
     "execution_count": 31,
     "metadata": {},
     "output_type": "execute_result"
    }
   ],
   "source": [
    "# 通过代码提取有用的数据\n",
    "def do_function(completion):\n",
    "    tool_call = completion.choices[0].message.tool_calls[0]\n",
    "    arguments = json.loads(tool_call.function.arguments)\n",
    "    city = arguments.get('city')\n",
    "    print(city)\n",
    "\n",
    "    function_name = tool_call.function.name\n",
    "    print(function_name)\n",
    "\n",
    "\n",
    "    # 使用反射机制动态调用函数\n",
    "    if hasattr(__import__('__main__'), function_name):\n",
    "        function_to_call = getattr(__import__('__main__'), function_name)\n",
    "        result = function_to_call(**arguments)\n",
    "        print(result)\n",
    "    else:\n",
    "        print(f\"Function {function_name} not found.\")\n",
    "    return  result\n",
    "\n",
    "res_function = do_function(completion)"
   ]
  },
  {
   "cell_type": "markdown",
   "metadata": {},
   "source": [
    "到这里我们就完成了利用大模型调用函数的功能开发"
   ]
  },
  {
   "cell_type": "markdown",
   "metadata": {},
   "source": [
    "# 步骤5 将函数调用结果返回给大模型\n",
    "\n",
    "现在我们在本地执行了函数调用，需要将此次函数调用的结果返回给聊天补全 API，以便模型生成用户应看到的实际响应，下面是一个完整的例子："
   ]
  },
  {
   "cell_type": "code",
   "execution_count": 43,
   "metadata": {},
   "outputs": [
    {
     "name": "stdout",
     "output_type": "stream",
     "text": [
      "BeiJing\n",
      "get_weather\n",
      "{\"temperature\": 33, \"weather_descriptions\": [\"Sunny\"]}\n",
      "{\"temperature\": 33, \"weather_descriptions\": [\"Sunny\"]}\n",
      "ChatCompletion(id='chatcmpl-9wkgPupsPGFo30bvitqmV3oy0geNS', choices=[Choice(finish_reason='stop', index=0, logprobs=None, message=ChatCompletionMessage(content='今天北京的天气晴朗，气温约为33°C。请注意防晒和保持水分哦！如果你需要更多的信息或建议，请告诉我！', refusal=None, role='assistant', function_call=None, tool_calls=None))], created=1723789501, model='gpt-4o-mini-2024-07-18', object='chat.completion', service_tier=None, system_fingerprint='fp_48196bc67a', usage=CompletionUsage(completion_tokens=35, prompt_tokens=55, total_tokens=90))\n"
     ]
    }
   ],
   "source": [
    "tools = [\n",
    "    {\n",
    "        \"type\": \"function\",\n",
    "        \"function\": {\n",
    "            \"name\": \"get_weather\",\n",
    "            \"description\": \"获取某个城市的天气。每当您需要知道天气时，请调用此命令，例如当用户询问“天津今天天气如何”时\",\n",
    "            \"parameters\": {\n",
    "                \"type\": \"object\",\n",
    "                \"properties\": {\n",
    "                    \"city\": {\n",
    "                        \"type\": \"string\",\n",
    "                        \"description\": \"城市的拼音，如天津市是'TianJin'\",\n",
    "                    },\n",
    "                },\n",
    "                \"required\": [\"city\"],\n",
    "                \"additionalProperties\": False,\n",
    "            }\n",
    "        }   \n",
    "    }\n",
    "]\n",
    "\n",
    "res_function = do_function(completion)\n",
    "\n",
    "messages = [\n",
    "    {\"role\": \"system\", \"content\": \"你是一个乐于助人的客户支持助理。使用提供的工具来帮助用户。\"},\n",
    "    {\"role\": \"user\", \"content\": \"今天北京天气如何？\"},\n",
    "    {\"role\": \"assistant\", \"content\": '{\"temperature\": 33, \"weather_descriptions\": [\"Sunny\"]}'}\n",
    "]\n",
    "\n",
    "\n",
    "\n",
    "client = OpenAI()\n",
    "# 调用OpenAI API的聊天完成端点，将工具调用结果送回模型\n",
    "response = client.chat.completions.create(\n",
    "    model=\"gpt-4o-mini\",\n",
    "    messages=messages\n",
    ")\n",
    "\n",
    "print(response)"
   ]
  },
  {
   "cell_type": "markdown",
   "metadata": {},
   "source": [
    "得到最终反馈：今天北京的天气晴朗，气温约为33°C。请注意防晒和保持水分哦！如果你需要更多的信息或建议，请告诉我！"
   ]
  }
 ],
 "metadata": {
  "kernelspec": {
   "display_name": "openai-env",
   "language": "python",
   "name": "python3"
  },
  "language_info": {
   "codemirror_mode": {
    "name": "ipython",
    "version": 3
   },
   "file_extension": ".py",
   "mimetype": "text/x-python",
   "name": "python",
   "nbconvert_exporter": "python",
   "pygments_lexer": "ipython3",
   "version": "3.12.1"
  }
 },
 "nbformat": 4,
 "nbformat_minor": 2
}
