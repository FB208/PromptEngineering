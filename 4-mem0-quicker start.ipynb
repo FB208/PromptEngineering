{
 "cells": [
  {
   "cell_type": "code",
   "execution_count": null,
   "metadata": {},
   "outputs": [],
   "source": [
    "%pip install mem0ai"
   ]
  },
  {
   "cell_type": "markdown",
   "metadata": {},
   "source": [
    "# 基本用法\n",
    "##  初始化 Mem0"
   ]
  },
  {
   "cell_type": "code",
   "execution_count": 1,
   "metadata": {},
   "outputs": [],
   "source": [
    "from mem0 import Memory\n",
    "m = Memory()"
   ]
  },
  {
   "cell_type": "markdown",
   "metadata": {},
   "source": [
    "## 存储记忆"
   ]
  },
  {
   "cell_type": "code",
   "execution_count": 2,
   "metadata": {},
   "outputs": [
    {
     "name": "stdout",
     "output_type": "stream",
     "text": [
      "[{'id': '6954a481-413d-4025-b206-51c013515161', 'event': 'add', 'data': 'Likes playing cricket on weekends'}]\n"
     ]
    }
   ],
   "source": [
    "# 针对一个用户\n",
    "result = m.add(\"周末喜欢打板球\", user_id=\"alice\", metadata={\"category\": \"hobbies\"})\n",
    "print(result)"
   ]
  },
  {
   "cell_type": "markdown",
   "metadata": {},
   "source": [
    "## 检索记忆"
   ]
  },
  {
   "cell_type": "code",
   "execution_count": 3,
   "metadata": {},
   "outputs": [
    {
     "name": "stdout",
     "output_type": "stream",
     "text": [
      "[{'id': '6954a481-413d-4025-b206-51c013515161', 'text': 'Likes playing cricket on weekends', 'metadata': {'category': 'hobbies', 'user_id': 'alice', 'data': 'Likes playing cricket on weekends', 'created_at': 1721791053}}]\n"
     ]
    }
   ],
   "source": [
    "# 得到所有的回忆\n",
    "all_memories = m.get_all()\n",
    "print(all_memories)"
   ]
  },
  {
   "cell_type": "code",
   "execution_count": 4,
   "metadata": {},
   "outputs": [
    {
     "name": "stdout",
     "output_type": "stream",
     "text": [
      "{'id': '6954a481-413d-4025-b206-51c013515161', 'text': 'Likes playing cricket on weekends', 'metadata': {'category': 'hobbies', 'user_id': 'alice', 'data': 'Likes playing cricket on weekends', 'created_at': 1721791053}}\n"
     ]
    }
   ],
   "source": [
    "# 通过ID获取单个内存\n",
    "specific_memory = m.get(\"6954a481-413d-4025-b206-51c013515161\")\n",
    "print(specific_memory)"
   ]
  },
  {
   "cell_type": "markdown",
   "metadata": {},
   "source": [
    "## 搜索记忆"
   ]
  },
  {
   "cell_type": "code",
   "execution_count": 5,
   "metadata": {},
   "outputs": [
    {
     "name": "stdout",
     "output_type": "stream",
     "text": [
      "[{'id': '6954a481-413d-4025-b206-51c013515161', 'text': 'Likes playing cricket on weekends', 'metadata': {'category': 'hobbies', 'user_id': 'alice', 'data': 'Likes playing cricket on weekends', 'created_at': 1721791053}, 'score': 0.17170298882127374}]\n"
     ]
    }
   ],
   "source": [
    "related_memories = m.search(query=\"爱丽丝的爱好是什么？\", user_id=\"alice\")\n",
    "print(related_memories)"
   ]
  },
  {
   "cell_type": "markdown",
   "metadata": {},
   "source": [
    "## 更新记忆"
   ]
  },
  {
   "cell_type": "code",
   "execution_count": 7,
   "metadata": {},
   "outputs": [
    {
     "name": "stdout",
     "output_type": "stream",
     "text": [
      "None\n"
     ]
    }
   ],
   "source": [
    "result = m.update(memory_id=\"6954a481-413d-4025-b206-51c013515161\", data=\"周末喜欢打网球\")\n",
    "print(result)"
   ]
  },
  {
   "cell_type": "markdown",
   "metadata": {},
   "source": [
    "## 记忆历史"
   ]
  },
  {
   "cell_type": "code",
   "execution_count": 9,
   "metadata": {},
   "outputs": [
    {
     "name": "stdout",
     "output_type": "stream",
     "text": [
      "[{'id': 'eae5f646-ef1b-4176-98db-40e566469bcd', 'memory_id': '6954a481-413d-4025-b206-51c013515161', 'prev_value': None, 'new_value': 'Likes playing cricket on weekends', 'event': 'add', 'timestamp': '2024-07-24 03:17:33.773835', 'is_deleted': 0}, {'id': '7d4f1798-67a0-4ee3-83e8-6f99852b49fd', 'memory_id': '6954a481-413d-4025-b206-51c013515161', 'prev_value': 'Likes playing cricket on weekends', 'new_value': '周末喜欢打网球', 'event': 'update', 'timestamp': '2024-07-24 05:22:27.181007', 'is_deleted': 0}]\n"
     ]
    }
   ],
   "source": [
    "history = m.history(memory_id=\"6954a481-413d-4025-b206-51c013515161\")\n",
    "print(history)\n"
   ]
  },
  {
   "cell_type": "markdown",
   "metadata": {},
   "source": [
    "## 删除记忆"
   ]
  },
  {
   "cell_type": "code",
   "execution_count": null,
   "metadata": {},
   "outputs": [],
   "source": [
    "m.delete(memory_id=\"23ef25f8-784d-4927-aa44-61ea95a06ad3\") # Delete a memory\n",
    "\n",
    "m.delete_all(user_id=\"alice\") # Delete all memories\n"
   ]
  },
  {
   "cell_type": "markdown",
   "metadata": {},
   "source": [
    "## 重置内存"
   ]
  },
  {
   "cell_type": "code",
   "execution_count": null,
   "metadata": {},
   "outputs": [],
   "source": [
    "m.reset() # Reset all memories"
   ]
  }
 ],
 "metadata": {
  "kernelspec": {
   "display_name": "openai-env",
   "language": "python",
   "name": "python3"
  },
  "language_info": {
   "codemirror_mode": {
    "name": "ipython",
    "version": 3
   },
   "file_extension": ".py",
   "mimetype": "text/x-python",
   "name": "python",
   "nbconvert_exporter": "python",
   "pygments_lexer": "ipython3",
   "version": "3.12.1"
  }
 },
 "nbformat": 4,
 "nbformat_minor": 2
}
