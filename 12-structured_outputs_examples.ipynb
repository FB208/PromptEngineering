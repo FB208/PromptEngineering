{
 "cells": [
  {
   "cell_type": "code",
   "execution_count": 4,
   "metadata": {},
   "outputs": [
    {
     "name": "stdout",
     "output_type": "stream",
     "text": [
      "ParsedChatCompletion[CalendarEvent](id='chatcmpl-9wllnffyHW4go3V6Mw1KYq3i0daXj', choices=[ParsedChoice[CalendarEvent](finish_reason='stop', index=0, logprobs=None, message=ParsedChatCompletionMessage[CalendarEvent](content='{\"name\":\"科学展览\",\"date\":\"星期五\",\"participants\":[\"艾丽斯\",\"鲍勃\"]}', refusal=None, role='assistant', function_call=None, tool_calls=[], parsed=CalendarEvent(name='科学展览', date='星期五', participants=['艾丽斯', '鲍勃'])))], created=1723793679, model='gpt-4o-mini-2024-07-18', object='chat.completion', service_tier=None, system_fingerprint='fp_48196bc67a', usage=CompletionUsage(completion_tokens=24, prompt_tokens=37, total_tokens=61))\n",
      "name='科学展览' date='星期五' participants=['艾丽斯', '鲍勃']\n"
     ]
    }
   ],
   "source": [
    "from pydantic import BaseModel\n",
    "from openai import OpenAI\n",
    "\n",
    "client = OpenAI()\n",
    "\n",
    "class CalendarEvent(BaseModel):\n",
    "    name: str\n",
    "    date: str\n",
    "    participants: list[str]\n",
    "\n",
    "completion = client.beta.chat.completions.parse(\n",
    "    model=\"gpt-4o-mini\",\n",
    "    messages=[\n",
    "        {\"role\": \"system\", \"content\": \"提取事件信息。\"},\n",
    "        {\"role\": \"user\", \"content\": \"艾丽斯和鲍勃星期五要去参加科学展览。\"},\n",
    "    ],\n",
    "    response_format=CalendarEvent,\n",
    ")\n",
    "\n",
    "\n",
    "event = completion.choices[0].message.parsed\n",
    "print(completion)\n",
    "print(event)"
   ]
  },
  {
   "cell_type": "markdown",
   "metadata": {},
   "source": [
    "# 案例\n",
    "\n",
    "## 思维链\n",
    "您可以要求模型以结构化、逐步的方式输出答案，引导用户逐步解决问题。"
   ]
  },
  {
   "cell_type": "code",
   "execution_count": 7,
   "metadata": {},
   "outputs": [
    {
     "name": "stdout",
     "output_type": "stream",
     "text": [
      "steps=[Step(explanation='To isolate the term with the variable, subtract 7 from both sides of the equation.', output='8x + 7 - 7 = -23 - 7'), Step(explanation='This simplifies to 8x = -30. Now, the equation has the form 8x = -30 and we need to solve for x by diving both sides by 8.', output='8x = -30'), Step(explanation='Divide both sides by 8 to solve for x.', output='x = -30/8'), Step(explanation='Simplify the fraction by dividing both the numerator and the denominator by their greatest common divisor, which is 2.', output='x = -15/4')] final_answer='x = -15/4'\n"
     ]
    }
   ],
   "source": [
    "from pydantic import BaseModel\n",
    "from openai import OpenAI\n",
    "\n",
    "client = OpenAI()\n",
    "\n",
    "class Step(BaseModel):\n",
    "    explanation: str\n",
    "    output: str\n",
    "\n",
    "class MathReasoning(BaseModel):\n",
    "    steps: list[Step]\n",
    "    final_answer: str\n",
    "\n",
    "completion = client.beta.chat.completions.parse(\n",
    "    model=\"gpt-4o-2024-08-06\",\n",
    "    messages=[\n",
    "        {\"role\": \"system\", \"content\": \"您是一位乐于助人的数学导师。逐步引导用户完成解决方案。\"},\n",
    "        {\"role\": \"user\", \"content\": \"我如何解决8x+7=-23\"}\n",
    "    ],\n",
    "    response_format=MathReasoning,\n",
    ")\n",
    "\n",
    "math_reasoning = completion.choices[0].message.parsed\n",
    "print(math_reasoning)"
   ]
  },
  {
   "cell_type": "markdown",
   "metadata": {},
   "source": [
    "**结果如下**\n",
    "steps=[\n",
    "    Step(explanation='To isolate the term with the variable, subtract 7 from both sides of the equation.', output='8x + 7 - 7 = -23 - 7'), \n",
    "    Step(explanation='This simplifies to 8x = -30. Now, the equation has the form 8x = -30 and we need to solve for x by diving both sides by 8.', output='8x = -30'), \n",
    "    Step(explanation='Divide both sides by 8 to solve for x.', output='x = -30/8'), \n",
    "    Step(explanation='Simplify the fraction by dividing both the numerator and the denominator by their greatest common divisor, which is 2.', output='x = -15/4')\n",
    "    ] \n",
    "final_answer='x = -15/4'\n"
   ]
  },
  {
   "cell_type": "markdown",
   "metadata": {},
   "source": [
    "## 结构化数据提取\n",
    "您可以定义结构化字段，从非结构化输入数据（如研究论文）中提取。"
   ]
  },
  {
   "cell_type": "code",
   "execution_count": 9,
   "metadata": {},
   "outputs": [
    {
     "name": "stdout",
     "output_type": "stream",
     "text": [
      "title='Structured Data Extraction with AI' authors=['John Doe', 'Jane Smith'] abstract='This paper discusses the core application of AI in structured data extraction, highlighting the use of OpenAI API by developers to build assistants that acquire data through function calls, answer questions, and perform multi-step proxy workflows. The challenges faced by developers in overcoming limitations of LLMs in this field are also addressed, along with the introduction of structured outputs that constrain model outputs to match developer-provided schemas.' keywords=['Structured Data Extraction', 'AI', 'OpenAI API', 'Interoperability', 'Model Constraints']\n"
     ]
    }
   ],
   "source": [
    "from pydantic import BaseModel\n",
    "from openai import OpenAI\n",
    "\n",
    "client = OpenAI()\n",
    "\n",
    "class ResearchPaperExtraction(BaseModel):\n",
    "    title: str\n",
    "    authors: list[str]\n",
    "    abstract: str\n",
    "    keywords: list[str]\n",
    "\n",
    "completion = client.beta.chat.completions.parse(\n",
    "    model=\"gpt-4o-2024-08-06\",\n",
    "    messages=[\n",
    "        {\"role\": \"system\", \"content\": \"您是结构化数据提取方面的专家。您将获得来自研究论文的非结构化文本，并应将其转换为给定的结构。\"},\n",
    "        {\"role\": \"user\", \"content\": \"从非结构化输入生成结构化数据是当今应用中 AI 的核心应用场景之一。开发者利用 OpenAI API 构建强大的助手，这些助手能够通过函数调用获取数据并回答问题，提取结构化数据以进行数据录入，并构建多步骤的代理工作流程，使LLMs能够采取行动。开发者长期以来一直在通过开源工具、提示工程和反复重试请求来绕过LLMs在这一领域的限制，以确保模型输出符合与其系统互操作所需的格式。结构化输出通过约束 OpenAI 模型匹配开发者提供的模式，并通过训练我们的模型更好地理解复杂的模式，解决了这一问题。\"}\n",
    "    ],\n",
    "    response_format=ResearchPaperExtraction,\n",
    ")\n",
    "\n",
    "research_paper = completion.choices[0].message.parsed\n",
    "print(research_paper)"
   ]
  },
  {
   "cell_type": "markdown",
   "metadata": {},
   "source": [
    "**结果如下**\n",
    "title='Structured Data Extraction with AI' \n",
    "authors=['John Doe', 'Jane Smith'] \n",
    "abstract='This paper discusses the core application of AI in structured data extraction, highlighting the use of OpenAI API by developers to build assistants that acquire data through function calls, answer questions, and perform multi-step proxy workflows. The challenges faced by developers in overcoming limitations of LLMs in this field are also addressed, along with the introduction of structured outputs that constrain model outputs to match developer-provided schemas.' \n",
    "keywords=['Structured Data Extraction', 'AI', 'OpenAI API', 'Interoperability', 'Model Constraints']"
   ]
  },
  {
   "cell_type": "markdown",
   "metadata": {},
   "source": [
    "## UI生成\n",
    "你可以通过将 HTML 表示为带有约束的递归数据结构（如枚举）来生成有效的 HTML。"
   ]
  },
  {
   "cell_type": "code",
   "execution_count": 10,
   "metadata": {},
   "outputs": [
    {
     "name": "stdout",
     "output_type": "stream",
     "text": [
      "ui=UI(type=<UIType.form: 'form'>, label='User Profile Form', children=[UI(type=<UIType.field: 'field'>, label='First Name', children=[], attributes=[Attribute(name='type', value='text'), Attribute(name='name', value='first_name'), Attribute(name='placeholder', value='Enter your first name')]), UI(type=<UIType.field: 'field'>, label='Last Name', children=[], attributes=[Attribute(name='type', value='text'), Attribute(name='name', value='last_name'), Attribute(name='placeholder', value='Enter your last name')]), UI(type=<UIType.field: 'field'>, label='Email Address', children=[], attributes=[Attribute(name='type', value='email'), Attribute(name='name', value='email'), Attribute(name='placeholder', value='Enter your email address')]), UI(type=<UIType.field: 'field'>, label='Phone Number', children=[], attributes=[Attribute(name='type', value='tel'), Attribute(name='name', value='phone'), Attribute(name='placeholder', value='Enter your phone number')]), UI(type=<UIType.field: 'field'>, label='Profile Picture', children=[], attributes=[Attribute(name='type', value='file'), Attribute(name='name', value='profile_picture')]), UI(type=<UIType.button: 'button'>, label='Submit', children=[], attributes=[Attribute(name='type', value='submit')])], attributes=[Attribute(name='method', value='post'), Attribute(name='action', value='/submit-profile')])\n"
     ]
    }
   ],
   "source": [
    "from enum import Enum\n",
    "from typing import List\n",
    "from pydantic import BaseModel\n",
    "from openai import OpenAI\n",
    "\n",
    "client = OpenAI()\n",
    "\n",
    "class UIType(str, Enum):\n",
    "    div = \"div\"\n",
    "    button = \"button\"\n",
    "    header = \"header\"\n",
    "    section = \"section\"\n",
    "    field = \"field\"\n",
    "    form = \"form\"\n",
    "\n",
    "class Attribute(BaseModel):\n",
    "    name: str\n",
    "    value: str\n",
    "\n",
    "class UI(BaseModel):\n",
    "    type: UIType\n",
    "    label: str\n",
    "    children: List[\"UI\"] \n",
    "    attributes: List[Attribute]\n",
    "\n",
    "UI.model_rebuild() # This is required to enable recursive types\n",
    "\n",
    "class Response(BaseModel):\n",
    "    ui: UI\n",
    "\n",
    "completion = client.beta.chat.completions.parse(\n",
    "    model=\"gpt-4o-2024-08-06\",\n",
    "    messages=[\n",
    "        {\"role\": \"system\", \"content\": \"你是一个UI生成器AI。将用户输入转换为UI。\"},\n",
    "        {\"role\": \"user\", \"content\": \"制作用户资料表\"}\n",
    "    ],\n",
    "    response_format=Response,\n",
    ")\n",
    "\n",
    "ui = completion.choices[0].message.parsed\n",
    "print(ui)"
   ]
  },
  {
   "cell_type": "markdown",
   "metadata": {},
   "source": [
    "**结果如下**\n",
    "``` json\n",
    "{\n",
    "    \"type\": \"form\",\n",
    "    \"label\": \"User Profile Form\",\n",
    "    \"children\": [\n",
    "        {\n",
    "            \"type\": \"div\",\n",
    "            \"label\": \"\",\n",
    "            \"children\": [\n",
    "                {\n",
    "                    \"type\": \"field\",\n",
    "                    \"label\": \"First Name\",\n",
    "                    \"children\": [],\n",
    "                    \"attributes\": [\n",
    "                        {\n",
    "                            \"name\": \"type\",\n",
    "                            \"value\": \"text\"\n",
    "                        },\n",
    "                        {\n",
    "                            \"name\": \"name\",\n",
    "                            \"value\": \"firstName\"\n",
    "                        },\n",
    "                        {\n",
    "                            \"name\": \"placeholder\",\n",
    "                            \"value\": \"Enter your first name\"\n",
    "                        }\n",
    "                    ]\n",
    "                },\n",
    "                {\n",
    "                    \"type\": \"field\",\n",
    "                    \"label\": \"Last Name\",\n",
    "                    \"children\": [],\n",
    "                    \"attributes\": [\n",
    "                        {\n",
    "                            \"name\": \"type\",\n",
    "                            \"value\": \"text\"\n",
    "                        },\n",
    "                        {\n",
    "                            \"name\": \"name\",\n",
    "                            \"value\": \"lastName\"\n",
    "                        },\n",
    "                        {\n",
    "                            \"name\": \"placeholder\",\n",
    "                            \"value\": \"Enter your last name\"\n",
    "                        }\n",
    "                    ]\n",
    "                }\n",
    "            ],\n",
    "            \"attributes\": []\n",
    "        },\n",
    "        {\n",
    "            \"type\": \"button\",\n",
    "            \"label\": \"Submit\",\n",
    "            \"children\": [],\n",
    "            \"attributes\": [\n",
    "                {\n",
    "                    \"name\": \"type\",\n",
    "                    \"value\": \"submit\"\n",
    "                }\n",
    "            ]\n",
    "        }\n",
    "    ],\n",
    "    \"attributes\": [\n",
    "        {\n",
    "            \"name\": \"method\",\n",
    "            \"value\": \"post\"\n",
    "        },\n",
    "        {\n",
    "            \"name\": \"action\",\n",
    "            \"value\": \"/submit-profile\"\n",
    "        }\n",
    "    ]\n",
    "}\n",
    "```"
   ]
  },
  {
   "cell_type": "markdown",
   "metadata": {},
   "source": [
    "## 审核\n",
    "您可以将输入归类到多个类别中，这是进行内容审核的常见方式。"
   ]
  },
  {
   "cell_type": "code",
   "execution_count": 11,
   "metadata": {},
   "outputs": [
    {
     "name": "stdout",
     "output_type": "stream",
     "text": [
      "is_violating=False category=None explanation_if_violating=None\n"
     ]
    }
   ],
   "source": [
    "from enum import Enum\n",
    "from typing import Optional\n",
    "from pydantic import BaseModel\n",
    "from openai import OpenAI\n",
    "\n",
    "client = OpenAI()\n",
    "\n",
    "class Category(str, Enum):\n",
    "    violence = \"violence\"\n",
    "    sexual = \"sexual\"\n",
    "    self_harm = \"self_harm\"\n",
    "\n",
    "class ContentCompliance(BaseModel):\n",
    "    is_violating: bool\n",
    "    category: Optional[Category]\n",
    "    explanation_if_violating: Optional[str]\n",
    "\n",
    "completion = client.beta.chat.completions.parse(\n",
    "    model=\"gpt-4o-2024-08-06\",\n",
    "    messages=[\n",
    "        {\"role\": \"system\", \"content\": \"确定用户输入是否违反特定准则并解释是否违反。\"},\n",
    "        {\"role\": \"user\", \"content\": \"我如何准备工作面试？\"}\n",
    "    ],\n",
    "    response_format=ContentCompliance,\n",
    ")\n",
    "\n",
    "compliance = completion.choices[0].message.parsed\n",
    "print(compliance)"
   ]
  },
  {
   "cell_type": "markdown",
   "metadata": {},
   "source": [
    "**结果如下**\n",
    "is_violating=False \n",
    "category=None \n",
    "explanation_if_violating=None"
   ]
  }
 ],
 "metadata": {
  "kernelspec": {
   "display_name": "openai-env",
   "language": "python",
   "name": "python3"
  },
  "language_info": {
   "codemirror_mode": {
    "name": "ipython",
    "version": 3
   },
   "file_extension": ".py",
   "mimetype": "text/x-python",
   "name": "python",
   "nbconvert_exporter": "python",
   "pygments_lexer": "ipython3",
   "version": "3.12.1"
  }
 },
 "nbformat": 4,
 "nbformat_minor": 2
}
