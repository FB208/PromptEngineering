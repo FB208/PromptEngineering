{
 "cells": [
  {
   "cell_type": "code",
   "execution_count": 7,
   "metadata": {},
   "outputs": [
    {
     "name": "stdout",
     "output_type": "stream",
     "text": [
      "The dotenv extension is already loaded. To reload it, use:\n",
      "  %reload_ext dotenv\n"
     ]
    }
   ],
   "source": [
    "%load_ext dotenv\n",
    "%dotenv\n"
   ]
  },
  {
   "cell_type": "code",
   "execution_count": null,
   "metadata": {},
   "outputs": [],
   "source": [
    "import os\n",
    "# 千万不能公开数据，否则会导致你的key被盗用\n",
    "# print(os.environ['OPENAI_API_KEY'])\n",
    "# print(os.environ['OPENAI_BASE_URL'])"
   ]
  },
  {
   "cell_type": "markdown",
   "metadata": {},
   "source": [
    "# Chat"
   ]
  },
  {
   "cell_type": "code",
   "execution_count": 1,
   "metadata": {},
   "outputs": [
    {
     "name": "stdout",
     "output_type": "stream",
     "text": [
      "ChatCompletionMessage(content=\"In the realm of code, a concept grand,\\nWhere functions call themselves, hand in hand,\\nRecursion dances, a graceful art,\\nA loop of depth, reaching heart to heart.\\n\\nLike a mirror reflecting its own reflection,\\nSolving problems with introspection,\\nDividing tasks into smaller bits,\\nUntil the base case finally fits.\\n\\nThrough layers of calls, it travels deep,\\nIn a rhythm that lulls the mind to keep,\\nBreaking down complexities with ease,\\nUnraveling mysteries piece by piece.\\n\\nYet beware, for in its endless chase,\\nA runaway recursion can be a grace,\\nAn infinite loop, a deadly snare,\\nLost in the void of nowhere.\\n\\nSo heed this lesson, clear and bright,\\nRecursion is a powerful might,\\nA tool to wield with care and grace,\\nIn the wondrous world of code's embrace.\", role='assistant', function_call=None, tool_calls=None)\n"
     ]
    }
   ],
   "source": [
    "from openai import OpenAI\n",
    "# client = OpenAI(\n",
    "#   base_url=\"https://gpt-api-proxy.****/v1\",\n",
    "#   api_key=\"sk-proj-W*************\"\n",
    "# )\n",
    "client = OpenAI()\n",
    "completion = client.chat.completions.create(\n",
    "  model=\"gpt-3.5-turbo\",\n",
    "  messages=[\n",
    "    {\"role\": \"system\", \"content\": \"You are a poetic assistant, skilled in explaining complex programming concepts with creative flair.\"},\n",
    "    {\"role\": \"user\", \"content\": \"Compose a poem that explains the concept of recursion in programming.\"}\n",
    "  ]\n",
    ")\n",
    "\n",
    "print(completion.choices[0].message)"
   ]
  },
  {
   "cell_type": "markdown",
   "metadata": {},
   "source": [
    "# Embeddings"
   ]
  },
  {
   "cell_type": "code",
   "execution_count": null,
   "metadata": {},
   "outputs": [],
   "source": [
    "from openai import OpenAI\n",
    "client = OpenAI()\n",
    "\n",
    "response = client.embeddings.create(\n",
    "  model=\"text-embedding-ada-002\",\n",
    "  input=\"The food was delicious and the waiter...\"\n",
    ")\n",
    "\n",
    "print(response)"
   ]
  },
  {
   "cell_type": "markdown",
   "metadata": {},
   "source": [
    "# Images"
   ]
  },
  {
   "cell_type": "code",
   "execution_count": null,
   "metadata": {},
   "outputs": [],
   "source": [
    "from openai import OpenAI\n",
    "client = OpenAI()\n",
    "\n",
    "response = client.images.generate(\n",
    "  prompt=\"A cute baby sea otter\",\n",
    "  n=2,\n",
    "  size=\"1024x1024\"\n",
    ")\n",
    "\n",
    "print(response)"
   ]
  },
  {
   "cell_type": "markdown",
   "metadata": {},
   "source": [
    "# 中文示例\n",
    "用于方便的演示和测试"
   ]
  },
  {
   "cell_type": "code",
   "execution_count": 1,
   "metadata": {},
   "outputs": [
    {
     "name": "stdout",
     "output_type": "stream",
     "text": [
      "人工智能是一种模拟人类智能的技术，通过计算机系统实现对复杂问题的学习、推理和决策能力。它模拟人类的感知、认知和行为，能够处理大量数据、识别模式和进行预测。人工智能包括机器学习、深度学习、自然语言处理等技术，被广泛应用于各个领域，如医疗、金融、交通等，为人类生活和工作带来了巨大的改变和便利。\n"
     ]
    }
   ],
   "source": [
    "from openai import OpenAI\n",
    "\n",
    "client = OpenAI()\n",
    "completion = client.chat.completions.create(\n",
    "  model=\"gpt-3.5-turbo\",\n",
    "  messages=[\n",
    "    {\"role\": \"system\", \"content\": \"你是一个富有诗意的智能助手，擅长用创造性的天赋回答用户任何问题。\"},\n",
    "    {\"role\": \"user\", \"content\": \"什么是人工智能\"}\n",
    "  ]\n",
    ")\n",
    "\n",
    "print(completion.choices[0].message.content)"
   ]
  }
 ],
 "metadata": {
  "kernelspec": {
   "display_name": "openai-env",
   "language": "python",
   "name": "python3"
  },
  "language_info": {
   "codemirror_mode": {
    "name": "ipython",
    "version": 3
   },
   "file_extension": ".py",
   "mimetype": "text/x-python",
   "name": "python",
   "nbconvert_exporter": "python",
   "pygments_lexer": "ipython3",
   "version": "3.12.1"
  }
 },
 "nbformat": 4,
 "nbformat_minor": 2
}
