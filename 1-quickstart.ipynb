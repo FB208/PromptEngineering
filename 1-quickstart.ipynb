{
 "cells": [
  {
   "cell_type": "code",
   "execution_count": 1,
   "metadata": {},
   "outputs": [],
   "source": [
    "%load_ext dotenv\n",
    "%dotenv\n"
   ]
  },
  {
   "cell_type": "code",
   "execution_count": 2,
   "metadata": {},
   "outputs": [],
   "source": [
    "import os\n",
    "# 千万不能公开数据，否则会导致你的key被盗用\n",
    "# print(os.environ['OPENAI_API_KEY'])\n",
    "# print(os.environ['OPENAI_BASE_URL'])"
   ]
  },
  {
   "cell_type": "markdown",
   "metadata": {},
   "source": [
    "# Chat"
   ]
  },
  {
   "cell_type": "code",
   "execution_count": 5,
   "metadata": {},
   "outputs": [
    {
     "name": "stdout",
     "output_type": "stream",
     "text": [
      "ChatCompletionMessage(content=\"In the realm of code, there lies a wondrous grace,\\nA magic known as recursion, a loop in its own pace.\\nA function calls itself, a symphony so divine,\\nUnfolding like a rose, in a recursive design.\\n\\nA dance of repetition, echoing through the night,\\nEach call a new chapter, a scene of dazzling light.\\nLike a Russian doll, nested deep within its core,\\nRecursion unfolds layers, revealing more and more.\\n\\nThrough loops within loops, the pattern never ends,\\nA fractal of logic, where beauty transcends.\\nA mirror reflecting, the code finds its way,\\nA recursive journey, where minds dare to sway.\\n\\nSo embrace the recursion, let the cycles flow,\\nIn the labyrinth of functions, where wonders grow.\\nA poetic symphony, in the code's endless rhyme,\\nRecursion dances elegantly, through the passage of time.\", role='assistant', function_call=None, tool_calls=None)\n"
     ]
    }
   ],
   "source": [
    "from openai import OpenAI\n",
    "# client = OpenAI(\n",
    "#   base_url=\"https://gpt-api-proxy.****/v1\",\n",
    "#   api_key=\"sk-proj-W*************\"\n",
    "# )\n",
    "client = OpenAI()\n",
    "completion = client.chat.completions.create(\n",
    "  model=\"gpt-3.5-turbo\",\n",
    "  messages=[\n",
    "    {\"role\": \"system\", \"content\": \"You are a poetic assistant, skilled in explaining complex programming concepts with creative flair.\"},\n",
    "    {\"role\": \"user\", \"content\": \"Compose a poem that explains the concept of recursion in programming.\"}\n",
    "  ]\n",
    ")\n",
    "\n",
    "print(completion.choices[0].message)"
   ]
  },
  {
   "cell_type": "markdown",
   "metadata": {},
   "source": [
    "# Embeddings"
   ]
  },
  {
   "cell_type": "code",
   "execution_count": null,
   "metadata": {},
   "outputs": [],
   "source": [
    "from openai import OpenAI\n",
    "client = OpenAI()\n",
    "\n",
    "response = client.embeddings.create(\n",
    "  model=\"text-embedding-ada-002\",\n",
    "  input=\"The food was delicious and the waiter...\"\n",
    ")\n",
    "\n",
    "print(response)"
   ]
  },
  {
   "cell_type": "markdown",
   "metadata": {},
   "source": [
    "# Images"
   ]
  },
  {
   "cell_type": "code",
   "execution_count": null,
   "metadata": {},
   "outputs": [],
   "source": [
    "from openai import OpenAI\n",
    "client = OpenAI()\n",
    "\n",
    "response = client.images.generate(\n",
    "  prompt=\"A cute baby sea otter\",\n",
    "  n=2,\n",
    "  size=\"1024x1024\"\n",
    ")\n",
    "\n",
    "print(response)"
   ]
  },
  {
   "cell_type": "markdown",
   "metadata": {},
   "source": [
    "# 中文示例\n",
    "用于方便的演示和测试"
   ]
  },
  {
   "cell_type": "code",
   "execution_count": 2,
   "metadata": {},
   "outputs": [
    {
     "name": "stdout",
     "output_type": "stream",
     "text": [
      "人工智能是一种模拟人类智力的技术，旨在让计算机系统能够执行一些通常需要人类智能才能完成的任务。通过模仿人类的思维和学习方式，人工智能系统可以自动地进行认知任务，如学习、推理、问题解决和语言理解。人工智能包括各种技术，如机器学习、深度学习、自然语言处理和计算机视觉等，它在许多领域都有广泛的应用，如自动驾驶汽车、医疗诊断、智能机器人等。\n"
     ]
    }
   ],
   "source": [
    "from openai import OpenAI\n",
    "\n",
    "client = OpenAI()\n",
    "completion = client.chat.completions.create(\n",
    "  model=\"gpt-3.5-turbo\",\n",
    "  messages=[\n",
    "    {\"role\": \"system\", \"content\": \"你是一个富有诗意的智能助手，擅长用创造性的天赋回答用户任何问题。\"},\n",
    "    {\"role\": \"user\", \"content\": \"什么是人工智能\"}\n",
    "  ]\n",
    ")\n",
    "\n",
    "print(completion.choices[0].message.content)"
   ]
  }
 ],
 "metadata": {
  "kernelspec": {
   "display_name": "openai-env",
   "language": "python",
   "name": "python3"
  },
  "language_info": {
   "codemirror_mode": {
    "name": "ipython",
    "version": 3
   },
   "file_extension": ".py",
   "mimetype": "text/x-python",
   "name": "python",
   "nbconvert_exporter": "python",
   "pygments_lexer": "ipython3",
   "version": "3.12.2"
  }
 },
 "nbformat": 4,
 "nbformat_minor": 2
}
