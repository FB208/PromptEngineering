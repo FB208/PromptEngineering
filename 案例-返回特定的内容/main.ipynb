{
 "cells": [
  {
   "cell_type": "code",
   "execution_count": 4,
   "metadata": {},
   "outputs": [
    {
     "name": "stdout",
     "output_type": "stream",
     "text": [
      "提示：\n",
      "在计算维护成本时，除了固定费用外，还需要将每平方英尺的额外费用计算在内，确保每一项费用都被正确计算。\n"
     ]
    }
   ],
   "source": [
    "from openai import OpenAI\n",
    "\n",
    "def call_openai_chat( user_query, system_message):\n",
    "    messages = [\n",
    "        {\"role\": \"system\", \"content\": system_message},\n",
    "        {\"role\": \"user\", \"content\": user_query}\n",
    "    ]\n",
    "    client = OpenAI()\n",
    "    response = client.chat.completions.create(\n",
    "        model=\"gpt-3.5-turbo\",\n",
    "        messages=messages\n",
    "    )\n",
    "\n",
    "    reply = response.choices[0].message.content\n",
    "\n",
    "    # 隐藏三重引号中的内容\n",
    "    import re\n",
    "    reply = re.sub(r'\"\"\".*?\"\"\"', '', reply, flags=re.DOTALL)\n",
    "\n",
    "    return reply.strip()\n",
    "\n",
    "# 示例用法\n",
    "user_query = '''\n",
    "问题陈述：我正在建设一个太阳能发电装置，需要帮助计算财务方面的问题。\n",
    "土地成本为每平方英尺 100 美元\n",
    "我可以以每平方英尺 250 美元的价格购买太阳能板\n",
    "我协商了一份维护合同，每年固定费用为 10 万美元，外加每平方英尺 10 美元的额外费用\n",
    "第一年运营的总成本与平方英尺数的关系是多少。\n",
    "学生解法：设 x 为安装面积（平方英尺）。\n",
    "土地成本：100 倍\n",
    "太阳能板成本：250x\n",
    "维护成本：100,000 + 100x\n",
    "总成本：100x + 250x + 100,000 + 100x = 450x + 100,000\n",
    "'''\n",
    "system_message = '''\n",
    "按照以下步骤来回答用户查询。\n",
    "步骤 1 - 首先独立解决问题的方案。不要依赖学生的解答，因为它可能不正确。将此步骤的所有工作内容用三重引号（\"\"\"）括起来。\n",
    "步骤 2 - 将您的解决方案与学生的解决方案进行比较，并评估学生的解决方案是否正确。请将此步骤的所有工作内容用三重引号（\"\"\"）括起来。\n",
    "步骤 3 - 如果学生犯了错误，确定你可以给出什么提示而不直接透露答案。将此步骤的所有工作内容用三重引号（\"\"\"）括起来。\n",
    "步骤 4 - 如果学生犯了错误，将上一步中的提示提供给学生（不在三重引号内）。不要写“步骤 4 - ...”，而是写“提示：”。\n",
    "'''\n",
    "\n",
    "response = call_openai_chat(user_query, system_message)\n",
    "print(response)\n"
   ]
  }
 ],
 "metadata": {
  "kernelspec": {
   "display_name": "openai-env",
   "language": "python",
   "name": "python3"
  },
  "language_info": {
   "codemirror_mode": {
    "name": "ipython",
    "version": 3
   },
   "file_extension": ".py",
   "mimetype": "text/x-python",
   "name": "python",
   "nbconvert_exporter": "python",
   "pygments_lexer": "ipython3",
   "version": "3.12.1"
  }
 },
 "nbformat": 4,
 "nbformat_minor": 2
}
