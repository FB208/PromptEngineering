{
 "cells": [
  {
   "attachments": {},
   "cell_type": "markdown",
   "metadata": {},
   "source": [
    "## 在语义化搜索中使用嵌入向量\n",
    "\n",
    "我们可以通过嵌入搜索查询，然后找到最相似的评论，以非常高效且低成本的方式对所有评论进行语义搜索。"
   ]
  },
  {
   "cell_type": "code",
   "execution_count": 1,
   "metadata": {},
   "outputs": [
    {
     "name": "stdout",
     "output_type": "stream",
     "text": [
      "Looking in indexes: https://pypi.tuna.tsinghua.edu.cn/simple\n",
      "Requirement already satisfied: pandas in d:\\codespace\\selfspace\\promptengineering\\openai-env\\lib\\site-packages (2.2.2)\n",
      "Requirement already satisfied: numpy>=1.26.0 in d:\\codespace\\selfspace\\promptengineering\\openai-env\\lib\\site-packages (from pandas) (1.26.4)\n",
      "Requirement already satisfied: python-dateutil>=2.8.2 in d:\\codespace\\selfspace\\promptengineering\\openai-env\\lib\\site-packages (from pandas) (2.9.0.post0)\n",
      "Requirement already satisfied: pytz>=2020.1 in d:\\codespace\\selfspace\\promptengineering\\openai-env\\lib\\site-packages (from pandas) (2024.1)\n",
      "Requirement already satisfied: tzdata>=2022.7 in d:\\codespace\\selfspace\\promptengineering\\openai-env\\lib\\site-packages (from pandas) (2024.1)\n",
      "Requirement already satisfied: six>=1.5 in d:\\codespace\\selfspace\\promptengineering\\openai-env\\lib\\site-packages (from python-dateutil>=2.8.2->pandas) (1.16.0)\n",
      "Note: you may need to restart the kernel to use updated packages.\n"
     ]
    },
    {
     "name": "stderr",
     "output_type": "stream",
     "text": [
      "\n",
      "[notice] A new release of pip is available: 23.2.1 -> 24.1.2\n",
      "[notice] To update, run: python.exe -m pip install --upgrade pip\n"
     ]
    },
    {
     "name": "stdout",
     "output_type": "stream",
     "text": [
      "Looking in indexes: https://pypi.tuna.tsinghua.edu.cn/simple\n",
      "Requirement already satisfied: numpy in d:\\codespace\\selfspace\\promptengineering\\openai-env\\lib\\site-packages (1.26.4)\n",
      "Note: you may need to restart the kernel to use updated packages.\n"
     ]
    },
    {
     "name": "stderr",
     "output_type": "stream",
     "text": [
      "\n",
      "[notice] A new release of pip is available: 23.2.1 -> 24.1.2\n",
      "[notice] To update, run: python.exe -m pip install --upgrade pip\n"
     ]
    }
   ],
   "source": [
    "%pip install pandas\n",
    "%pip install numpy"
   ]
  },
  {
   "cell_type": "code",
   "execution_count": 2,
   "metadata": {},
   "outputs": [],
   "source": [
    "import pandas as pd\n",
    "import numpy as np\n",
    "from ast import literal_eval\n",
    "\n",
    "datafile_path = \"./archive/fine_food_reviews_with_embeddings_1k.csv\"\n",
    "\n",
    "df = pd.read_csv(datafile_path)\n",
    "df[\"embedding\"] = df.embedding.apply(literal_eval).apply(np.array)\n"
   ]
  },
  {
   "attachments": {},
   "cell_type": "markdown",
   "metadata": {},
   "source": [
    "在这里，我们比较查询和文档嵌入的余弦相似度，并展示前 top_n 个最佳匹配项。"
   ]
  },
  {
   "cell_type": "code",
   "execution_count": 3,
   "metadata": {},
   "outputs": [
    {
     "name": "stdout",
     "output_type": "stream",
     "text": [
      "Delicious!:  I enjoy this white beans seasoning, it gives a rich flavor to the beans I just love it, my mother in law didn't know about this Zatarain's brand and now she is traying different seasoning\n",
      "\n",
      "Fantastic Instant Refried beans:  Fantastic Instant Refried Beans have been a staple for my family now for nearly 20 years.  All 7 of us love it and my grown kids are passing on the tradition.\n",
      "\n",
      "Delicious:  While there may be better coffee beans available, this is my first purchase and my first time grinding my own beans.  I read several reviews before purchasing this brand, and am extremely \n",
      "\n"
     ]
    }
   ],
   "source": [
    "# 导入获取嵌入向量和计算余弦相似度的函数\n",
    "from utils.embeddings_utils import get_embedding, cosine_similarity\n",
    "\n",
    "def search_reviews(df, product_description, n=3, pprint=True):\n",
    "    \"\"\"\n",
    "    根据产品描述，在评论数据集中查找最相似的评论。\n",
    "    \n",
    "    参数:\n",
    "    df: pandas.DataFrame, 包含评论文本和对应嵌入向量的数据集。\n",
    "    product_description: str, 产品的描述，用于生成产品嵌入向量。\n",
    "    n: int, 默认为3，指定返回的最相似评论的数量。\n",
    "    pprint: bool, 默认为True，控制是否打印最相似的评论。\n",
    "    \n",
    "    返回:\n",
    "    pandas.Series, 包含最相似评论的标题和内容的字符串。\n",
    "    \"\"\"\n",
    "    # 为产品描述生成嵌入向量\n",
    "    product_embedding = get_embedding(\n",
    "        product_description,\n",
    "        model=\"text-embedding-3-small\"\n",
    "    )\n",
    "    \n",
    "    # 计算每条评论的嵌入向量与产品描述嵌入向量的余弦相似度\n",
    "    df[\"similarity\"] = df.embedding.apply(lambda x: cosine_similarity(x, product_embedding))\n",
    "    \n",
    "    # 根据相似度排序，并提取最相似的n条评论的标题和内容\n",
    "    results = (\n",
    "        df.sort_values(\"similarity\", ascending=False)\n",
    "        .head(n)\n",
    "        .combined.str.replace(\"Title: \", \"\")\n",
    "        .str.replace(\"; Content:\", \": \")\n",
    "    )\n",
    "    \n",
    "    # 如果指定，打印最相似的评论\n",
    "    if pprint:\n",
    "        for r in results:\n",
    "            print(r[:200])\n",
    "            print()\n",
    "    \n",
    "    return results\n",
    "\n",
    "# 调用函数，搜索与\"delicious beans\"描述最相似的3条评论\n",
    "results = search_reviews(df, \"delicious beans\", n=3)\n"
   ]
  },
  {
   "cell_type": "markdown",
   "metadata": {},
   "source": [
    "# 来个形象点的例子\n",
    "咱们的嵌入向量数据都是英文的，但是我输入“猫粮”，仍然能查到和猫粮相关的评论，这就是语义化搜索！"
   ]
  },
  {
   "cell_type": "code",
   "execution_count": null,
   "metadata": {},
   "outputs": [],
   "source": [
    "results = search_reviews(df, \"猫粮\", n=3)\n"
   ]
  },
  {
   "cell_type": "markdown",
   "metadata": {},
   "source": [
    "又乱又明显不好吃：我的猫不是很喜欢。当然，它会舔掉肉汁，但把那些像肉的小块留得像骨头一样干。感觉像是在省钱，但如果你的猫在吃就不是了。 \n",
    "\n",
    "又乱又明显不好吃：我的猫不是很喜欢。当然，它会舔掉肉汁，但把那些像肉的小块留得干巴巴的。感觉像是在省钱，但如果你的猫在吃就不是了。 \n",
    "\n",
    "这些猫喜欢它：我的 7 只猫喜欢这种食物，但对人类来说有点难吃。一块块鲭鱼在深色的肉汤里游动。它被宣传为“完整”的食物，包含胡萝卜、豌豆和意大利面。 "
   ]
  }
 ],
 "metadata": {
  "kernelspec": {
   "display_name": "openai",
   "language": "python",
   "name": "python3"
  },
  "language_info": {
   "codemirror_mode": {
    "name": "ipython",
    "version": 3
   },
   "file_extension": ".py",
   "mimetype": "text/x-python",
   "name": "python",
   "nbconvert_exporter": "python",
   "pygments_lexer": "ipython3",
   "version": "3.12.1"
  },
  "orig_nbformat": 4,
  "vscode": {
   "interpreter": {
    "hash": "365536dcbde60510dc9073d6b991cd35db2d9bac356a11f5b64279a5e6708b97"
   }
  }
 },
 "nbformat": 4,
 "nbformat_minor": 2
}
