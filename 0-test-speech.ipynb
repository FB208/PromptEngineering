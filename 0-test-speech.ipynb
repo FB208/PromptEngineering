{
 "cells": [
  {
   "cell_type": "code",
   "execution_count": 1,
   "metadata": {},
   "outputs": [
    {
     "name": "stdout",
     "output_type": "stream",
     "text": [
      "Looking in indexes: https://pypi.tuna.tsinghua.edu.cn/simple\n",
      "Collecting SpeechRecognition\n",
      "  Downloading https://pypi.tuna.tsinghua.edu.cn/packages/e6/28/b5e6e769002e46a5edef16871884721d4b68da31dbd4509db6ea50f8b224/SpeechRecognition-3.10.4-py2.py3-none-any.whl (32.8 MB)\n",
      "     ---------------------------------------- 0.0/32.8 MB ? eta -:--:--\n",
      "     ------------ -------------------------- 10.5/32.8 MB 54.4 MB/s eta 0:00:01\n",
      "     ---------------------------- ---------- 24.1/32.8 MB 58.8 MB/s eta 0:00:01\n",
      "     --------------------------------------- 32.8/32.8 MB 54.8 MB/s eta 0:00:00\n",
      "Collecting pydub\n",
      "  Downloading https://pypi.tuna.tsinghua.edu.cn/packages/a6/53/d78dc063216e62fc55f6b2eebb447f6a4b0a59f55c8406376f76bf959b08/pydub-0.25.1-py2.py3-none-any.whl (32 kB)\n",
      "Requirement already satisfied: requests>=2.26.0 in d:\\codespace\\selfspace\\promptengineering\\openai-env\\lib\\site-packages (from SpeechRecognition) (2.32.3)\n",
      "Requirement already satisfied: typing-extensions in d:\\codespace\\selfspace\\promptengineering\\openai-env\\lib\\site-packages (from SpeechRecognition) (4.12.2)\n",
      "Requirement already satisfied: charset-normalizer<4,>=2 in d:\\codespace\\selfspace\\promptengineering\\openai-env\\lib\\site-packages (from requests>=2.26.0->SpeechRecognition) (3.3.2)\n",
      "Requirement already satisfied: idna<4,>=2.5 in d:\\codespace\\selfspace\\promptengineering\\openai-env\\lib\\site-packages (from requests>=2.26.0->SpeechRecognition) (3.7)\n",
      "Requirement already satisfied: urllib3<3,>=1.21.1 in d:\\codespace\\selfspace\\promptengineering\\openai-env\\lib\\site-packages (from requests>=2.26.0->SpeechRecognition) (2.2.2)\n",
      "Requirement already satisfied: certifi>=2017.4.17 in d:\\codespace\\selfspace\\promptengineering\\openai-env\\lib\\site-packages (from requests>=2.26.0->SpeechRecognition) (2024.6.2)\n",
      "Installing collected packages: pydub, SpeechRecognition\n",
      "Successfully installed SpeechRecognition-3.10.4 pydub-0.25.1\n",
      "Note: you may need to restart the kernel to use updated packages.\n"
     ]
    }
   ],
   "source": [
    "%pip install SpeechRecognition pydub"
   ]
  },
  {
   "cell_type": "code",
   "execution_count": 2,
   "metadata": {},
   "outputs": [
    {
     "name": "stdout",
     "output_type": "stream",
     "text": [
      "Transcribed Text:  文字漂亮的文字漂亮的图片音频还有咱们的这样的视频通通都可以实现的家人们这个就是人工智能给他们带来的所有的要素如果直播间家们你们想学习人工智能一定要掌握两个要素第一定要做什么呀一定要掌握学习人工智能思维告诉大家学习人工智能是一定要持续不断的学习第二个要素是什么一定要上手去实操去实践人工智能只有这样的话你们才能在人工智能道路上走的又快又好好了这些福利呢至少直播下播之后第一时间给大家安排只要这边家人们给多少点关注亮黄金点击下方的小风车l填写相关的信息多少下锅之后第一时间给大家安排这些福利好了\n"
     ]
    }
   ],
   "source": [
    "import speech_recognition as sr\n",
    "from pydub import AudioSegment\n",
    "\n",
    "# 创建识别器对象\n",
    "recognizer = sr.Recognizer()\n",
    "\n",
    "# 加载音频文件并转换为 .wav 格式（如果不是 .wav）\n",
    "audio = AudioSegment.from_file(\"./archive/20240812-151125.mp3\")\n",
    "audio.export(\"converted_audio.wav\", format=\"wav\")\n",
    "\n",
    "# 使用 SpeechRecognition 识别音频\n",
    "with sr.AudioFile(\"converted_audio.wav\") as source:\n",
    "    audio_data = recognizer.record(source)\n",
    "    try:\n",
    "        # 将音频转换为文本\n",
    "        text = recognizer.recognize_google(audio_data, language=\"zh-CN\")\n",
    "        print(\"Transcribed Text: \", text)\n",
    "    except sr.UnknownValueError:\n",
    "        print(\"Google Speech Recognition could not understand audio\")\n",
    "    except sr.RequestError as e:\n",
    "        print(f\"Could not request results from Google Speech Recognition service; {e}\")\n"
   ]
  }
 ],
 "metadata": {
  "kernelspec": {
   "display_name": "openai-env",
   "language": "python",
   "name": "python3"
  },
  "language_info": {
   "codemirror_mode": {
    "name": "ipython",
    "version": 3
   },
   "file_extension": ".py",
   "mimetype": "text/x-python",
   "name": "python",
   "nbconvert_exporter": "python",
   "pygments_lexer": "ipython3",
   "version": "3.12.1"
  }
 },
 "nbformat": 4,
 "nbformat_minor": 2
}
