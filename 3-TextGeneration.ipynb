{
 "cells": [
  {
   "cell_type": "code",
   "execution_count": 3,
   "metadata": {},
   "outputs": [
    {
     "name": "stdout",
     "output_type": "stream",
     "text": [
      "2020年的世界职业棒球大赛是在美国进行的，比赛在奥斯汀，德克萨斯州的球场举行。\n"
     ]
    }
   ],
   "source": [
    "from openai import OpenAI\n",
    "client = OpenAI()\n",
    "\n",
    "response = client.chat.completions.create(\n",
    "  model=\"gpt-3.5-turbo\",\n",
    "  messages=[\n",
    "    {\"role\": \"system\", \"content\": \"您是一位乐于助人的助手。\"},\n",
    "    {\"role\": \"user\", \"content\": \"2020 年世界职业棒球大赛的冠军是谁？\"},\n",
    "    {\"role\": \"assistant\", \"content\": \"洛杉矶道奇队在 2020 年赢得了世界职业棒球大赛的冠军。\"},\n",
    "    {\"role\": \"user\", \"content\": \"它是在哪里进行的？\"}\n",
    "  ]\n",
    ")\n",
    "print(response.choices[0].message.content)"
   ]
  },
  {
   "cell_type": "markdown",
   "metadata": {},
   "source": [
    "ChatCompletion(id='chatcmpl-9gSP7G9TyDkm31IaEIFoxAk0FDgll', choices=[Choice(finish_reason='stop', index=0, logprobs=None, message=ChatCompletionMessage(content='The 2020 World Series was held at Globe Life Field in Arlington, Texas.', role='assistant', function_call=None, tool_calls=None))], created=1719905989, model='gpt-3.5-turbo-0125', object='chat.completion', service_tier=None, system_fingerprint=None, usage=CompletionUsage(completion_tokens=17, prompt_tokens=53, total_tokens=70))"
   ]
  }
 ],
 "metadata": {
  "kernelspec": {
   "display_name": "openai-env",
   "language": "python",
   "name": "python3"
  },
  "language_info": {
   "codemirror_mode": {
    "name": "ipython",
    "version": 3
   },
   "file_extension": ".py",
   "mimetype": "text/x-python",
   "name": "python",
   "nbconvert_exporter": "python",
   "pygments_lexer": "ipython3",
   "version": "3.12.1"
  }
 },
 "nbformat": 4,
 "nbformat_minor": 2
}
