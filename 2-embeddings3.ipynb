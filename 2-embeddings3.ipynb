{
 "cells": [
  {
   "attachments": {},
   "cell_type": "markdown",
   "metadata": {},
   "source": [
    "# 在推荐系统中使用嵌入向量\n",
    "\n",
    "推荐在网络上广泛存在。\n",
    "\n",
    "- 购买了那个商品？试试这些类似商品。\n",
    "- 喜欢那本书吗？试试这些类似的书名。\n",
    "- 找不到您想要的帮助页面？试试这些类似的页面。\n",
    "\n",
    "本笔记本演示了如何使用嵌入向量来寻找相似项目以进行推荐。特别是，我们使用 AG 的新闻文章语料库作为我们的数据集。\n",
    "\n",
    "我们的模型将回答以下问题：给定一篇文章，哪些其他文章与它最为相似？"
   ]
  },
  {
   "cell_type": "code",
   "execution_count": 1,
   "metadata": {},
   "outputs": [],
   "source": [
    "import pandas as pd\n",
    "import pickle\n",
    "from lxml import etree\n",
    "\n",
    "from utils.embeddings_utils import (\n",
    "    get_embedding,\n",
    "    distances_from_embeddings,\n",
    "    tsne_components_from_embeddings,\n",
    "    chart_from_components,\n",
    "    indices_of_nearest_neighbors_from_distances,\n",
    ")\n",
    "\n",
    "EMBEDDING_MODEL = \"text-embedding-3-small\"\n"
   ]
  },
  {
   "cell_type": "markdown",
   "metadata": {},
   "source": [
    "## 加载xml数据，这次比csv稍复杂一些"
   ]
  },
  {
   "cell_type": "code",
   "execution_count": 2,
   "metadata": {},
   "outputs": [
    {
     "data": {
      "text/html": [
       "<div>\n",
       "<style scoped>\n",
       "    .dataframe tbody tr th:only-of-type {\n",
       "        vertical-align: middle;\n",
       "    }\n",
       "\n",
       "    .dataframe tbody tr th {\n",
       "        vertical-align: top;\n",
       "    }\n",
       "\n",
       "    .dataframe thead th {\n",
       "        text-align: right;\n",
       "    }\n",
       "</style>\n",
       "<table border=\"1\" class=\"dataframe\">\n",
       "  <thead>\n",
       "    <tr style=\"text-align: right;\">\n",
       "      <th></th>\n",
       "      <th>source</th>\n",
       "      <th>url</th>\n",
       "      <th>title</th>\n",
       "      <th>image</th>\n",
       "      <th>category</th>\n",
       "      <th>description</th>\n",
       "      <th>rank</th>\n",
       "      <th>pubdate</th>\n",
       "    </tr>\n",
       "  </thead>\n",
       "  <tbody>\n",
       "    <tr>\n",
       "      <th>0</th>\n",
       "      <td>Yahoo Business</td>\n",
       "      <td>http://us.rd.yahoo.com/dailynews/rss/business/...</td>\n",
       "      <td>Wall St. Pullback Reflects Tech Blowout (Reuters)</td>\n",
       "      <td>none</td>\n",
       "      <td>Business</td>\n",
       "      <td>Reuters - Wall Street's long-playing drama,\\\"W...</td>\n",
       "      <td>5</td>\n",
       "      <td>0000-00-00 00:00:00</td>\n",
       "    </tr>\n",
       "    <tr>\n",
       "      <th>1</th>\n",
       "      <td>Yahoo Business</td>\n",
       "      <td>http://us.rd.yahoo.com/dailynews/rss/business/...</td>\n",
       "      <td>Wall St. Bears Claw Back Into the Black (Reuters)</td>\n",
       "      <td>none</td>\n",
       "      <td>Business</td>\n",
       "      <td>Reuters - Short-sellers, Wall Street's dwindli...</td>\n",
       "      <td>5</td>\n",
       "      <td>0000-00-00 00:00:00</td>\n",
       "    </tr>\n",
       "    <tr>\n",
       "      <th>2</th>\n",
       "      <td>Yahoo Business</td>\n",
       "      <td>http://us.rd.yahoo.com/dailynews/rss/business/...</td>\n",
       "      <td>Carlyle Looks Toward Commercial Aerospace (Reu...</td>\n",
       "      <td>none</td>\n",
       "      <td>Business</td>\n",
       "      <td>Reuters - Private investment firm Carlyle Grou...</td>\n",
       "      <td>5</td>\n",
       "      <td>0000-00-00 00:00:00</td>\n",
       "    </tr>\n",
       "    <tr>\n",
       "      <th>3</th>\n",
       "      <td>Yahoo Business</td>\n",
       "      <td>http://us.rd.yahoo.com/dailynews/rss/business/...</td>\n",
       "      <td>Oil and Economy Cloud Stocks' Outlook (Reuters)</td>\n",
       "      <td>none</td>\n",
       "      <td>Business</td>\n",
       "      <td>Reuters - Soaring crude prices plus worries\\ab...</td>\n",
       "      <td>5</td>\n",
       "      <td>0000-00-00 00:00:00</td>\n",
       "    </tr>\n",
       "    <tr>\n",
       "      <th>4</th>\n",
       "      <td>Yahoo Business</td>\n",
       "      <td>http://us.rd.yahoo.com/dailynews/rss/business/...</td>\n",
       "      <td>Iraq Halts Oil Exports from Main Southern Pipe...</td>\n",
       "      <td>none</td>\n",
       "      <td>Business</td>\n",
       "      <td>Reuters - Authorities have halted oil export\\f...</td>\n",
       "      <td>5</td>\n",
       "      <td>0000-00-00 00:00:00</td>\n",
       "    </tr>\n",
       "  </tbody>\n",
       "</table>\n",
       "</div>"
      ],
      "text/plain": [
       "           source                                                url  \\\n",
       "0  Yahoo Business  http://us.rd.yahoo.com/dailynews/rss/business/...   \n",
       "1  Yahoo Business  http://us.rd.yahoo.com/dailynews/rss/business/...   \n",
       "2  Yahoo Business  http://us.rd.yahoo.com/dailynews/rss/business/...   \n",
       "3  Yahoo Business  http://us.rd.yahoo.com/dailynews/rss/business/...   \n",
       "4  Yahoo Business  http://us.rd.yahoo.com/dailynews/rss/business/...   \n",
       "\n",
       "                                               title image  category  \\\n",
       "0  Wall St. Pullback Reflects Tech Blowout (Reuters)  none  Business   \n",
       "1  Wall St. Bears Claw Back Into the Black (Reuters)  none  Business   \n",
       "2  Carlyle Looks Toward Commercial Aerospace (Reu...  none  Business   \n",
       "3    Oil and Economy Cloud Stocks' Outlook (Reuters)  none  Business   \n",
       "4  Iraq Halts Oil Exports from Main Southern Pipe...  none  Business   \n",
       "\n",
       "                                         description rank              pubdate  \n",
       "0  Reuters - Wall Street's long-playing drama,\\\"W...    5  0000-00-00 00:00:00  \n",
       "1  Reuters - Short-sellers, Wall Street's dwindli...    5  0000-00-00 00:00:00  \n",
       "2  Reuters - Private investment firm Carlyle Grou...    5  0000-00-00 00:00:00  \n",
       "3  Reuters - Soaring crude prices plus worries\\ab...    5  0000-00-00 00:00:00  \n",
       "4  Reuters - Authorities have halted oil export\\f...    5  0000-00-00 00:00:00  "
      ]
     },
     "execution_count": 2,
     "metadata": {},
     "output_type": "execute_result"
    }
   ],
   "source": [
    "import pandas as pd\n",
    "\n",
    "\n",
    "# 加载和检查数据集\n",
    "input_datapath = \"./archive/newsspace200.xml\"  # 修改为你自己的路径\n",
    "\n",
    "# 读取 XML 文件\n",
    "tree = etree.parse(input_datapath)\n",
    "root = tree.getroot()\n",
    "\n",
    "# 提取所有 <all_news> 节点的数据\n",
    "data = []\n",
    "for news in root.findall('.//all_news'):\n",
    "    sources = news.findall(\"source\")\n",
    "    urls = news.findall(\"url\")\n",
    "    titles = news.findall(\"title\")\n",
    "    images = news.findall(\"image\")\n",
    "    categories = news.findall(\"category\")\n",
    "    descriptions = news.findall(\"description\")\n",
    "    ranks = news.findall(\"rank\")\n",
    "    pubdates = news.findall(\"pubdate\")\n",
    "    \n",
    "    for i in range(len(sources)):\n",
    "        row = {\n",
    "            \"source\": sources[i].text if i < len(sources) else \"\",\n",
    "            \"url\": urls[i].text if i < len(urls) else \"\",\n",
    "            \"title\": titles[i].text if i < len(titles) else \"\",\n",
    "            \"image\": images[i].text if i < len(images) else \"\",\n",
    "            \"category\": categories[i].text if i < len(categories) else \"\",\n",
    "            \"description\": descriptions[i].text if i < len(descriptions) else \"\",\n",
    "            \"rank\": ranks[i].text if i < len(ranks) else \"\",\n",
    "            \"pubdate\": pubdates[i].text if i < len(pubdates) else \"\",\n",
    "        }\n",
    "        data.append(row)\n",
    "\n",
    "# 创建数据框\n",
    "df = pd.DataFrame(data)\n",
    "\n",
    "# 确保所有列都是字符串类型\n",
    "df = df.astype(str)\n",
    "\n",
    "# 删除空值\n",
    "df = df.dropna()\n",
    "\n",
    "# 用于快速查看数据的初始状态\n",
    "n_examples = 5\n",
    "df.head(n_examples)"
   ]
  },
  {
   "cell_type": "markdown",
   "metadata": {},
   "source": [
    "让我们来看看那些完整的数据，但这次不以省略号截断。"
   ]
  },
  {
   "cell_type": "code",
   "execution_count": 3,
   "metadata": {},
   "outputs": [
    {
     "name": "stdout",
     "output_type": "stream",
     "text": [
      "\n",
      "Title: Wall St. Pullback Reflects Tech Blowout (Reuters)\n",
      "Description: Reuters - Wall Street's long-playing drama,\\\"Waiting for Google,\" is about to reach its final act, but its\\stock market debut is ending up as more of a nostalgia event\\than the catalyst for a new era.\n",
      "Label: Yahoo Business\n",
      "\n",
      "Title: Wall St. Bears Claw Back Into the Black (Reuters)\n",
      "Description: Reuters - Short-sellers, Wall Street's dwindling\\band of ultra-cynics, are seeing green again.\n",
      "Label: Yahoo Business\n",
      "\n",
      "Title: Carlyle Looks Toward Commercial Aerospace (Reuters)\n",
      "Description: Reuters - Private investment firm Carlyle Group,\\which has a reputation for making well-timed and occasionally\\controversial plays in the defense industry, has quietly placed\\its bets on another part of the market.\n",
      "Label: Yahoo Business\n",
      "\n",
      "Title: Oil and Economy Cloud Stocks' Outlook (Reuters)\n",
      "Description: Reuters - Soaring crude prices plus worries\\about the economy and the outlook for earnings are expected to\\hang over the stock market next week during the depth of the\\summer doldrums.\n",
      "Label: Yahoo Business\n",
      "\n",
      "Title: Iraq Halts Oil Exports from Main Southern Pipeline (Reuters)\n",
      "Description: Reuters - Authorities have halted oil export\\flows from the main pipeline in southern Iraq after\\intelligence showed a rebel militia could strike\\infrastructure, an oil official said on Saturday.\n",
      "Label: Yahoo Business\n"
     ]
    }
   ],
   "source": [
    "for idx, row in df.head(n_examples).iterrows():\n",
    "    print(\"\")\n",
    "    print(f\"Title: {row['title']}\")\n",
    "    print(f\"Description: {row['description']}\")\n",
    "    print(f\"Label: {row['source']}\")\n"
   ]
  },
  {
   "attachments": {},
   "cell_type": "markdown",
   "metadata": {},
   "source": [
    "## 构建缓存以保存嵌入向量\n",
    "\n",
    "在为这些文章生成嵌入之前，让我们设置一个缓存来保存我们生成的嵌入。通常，保存你的嵌入是一个好主意，这样你以后可以重复使用它们。如果不保存它们，每次重新计算时你都需要再次付费。\n",
    "\n",
    "缓存是一个字典，它将元组 (text, model) 映射到一个嵌入向量，该向量是一个浮点数列表。缓存以 Python pickle 文件的形式保存。"
   ]
  },
  {
   "cell_type": "code",
   "execution_count": 4,
   "metadata": {},
   "outputs": [],
   "source": [
    "# 建立嵌入缓存以避免重新计算\n",
    "# 缓存是元组（文本、模型）->嵌入的判决，保存为泡菜文件\n",
    "\n",
    "# 设置嵌入缓存的路径\n",
    "embedding_cache_path = \"./archive/recommendations_embeddings_cache.pkl\"\n",
    "\n",
    "# 如果缓存存在，则加载它，并将副本保存到磁盘\n",
    "try:\n",
    "    embedding_cache = pd.read_pickle(embedding_cache_path)\n",
    "except FileNotFoundError:\n",
    "    embedding_cache = {}\n",
    "with open(embedding_cache_path, \"wb\") as embedding_cache_file:\n",
    "    pickle.dump(embedding_cache, embedding_cache_file)\n",
    "\n",
    "# 定义一个函数以从缓存中检索嵌入（如果存在），否则通过API请求\n",
    "def embedding_from_string(\n",
    "    string: str,\n",
    "    model: str = EMBEDDING_MODEL,\n",
    "    embedding_cache=embedding_cache\n",
    ") -> list:\n",
    "    \"\"\"返回给定字符串的嵌入，使用缓存以避免重新计算。\"\"\"\n",
    "    if (string, model) not in embedding_cache.keys():\n",
    "        embedding_cache[(string, model)] = get_embedding(string, model)\n",
    "        with open(embedding_cache_path, \"wb\") as embedding_cache_file:\n",
    "            pickle.dump(embedding_cache, embedding_cache_file)\n",
    "    return embedding_cache[(string, model)]\n"
   ]
  },
  {
   "cell_type": "markdown",
   "metadata": {},
   "source": [
    "让我们通过获取一个嵌入来检查它是否正常工作。"
   ]
  },
  {
   "cell_type": "code",
   "execution_count": 5,
   "metadata": {},
   "outputs": [
    {
     "name": "stdout",
     "output_type": "stream",
     "text": [
      "\n",
      "Example string: Reuters - Wall Street's long-playing drama,\\\"Waiting for Google,\" is about to reach its final act, but its\\stock market debut is ending up as more of a nostalgia event\\than the catalyst for a new era.\n",
      "\n",
      "Example embedding: [0.007917104288935661, -0.0023091554176062346, -0.0028465643990784883, -0.004404586274176836, 0.004630700685083866, -0.0017918797675520182, 0.021174227818846703, 0.03268438205122948, 0.03459241986274719, -0.014458936639130116]...\n"
     ]
    }
   ],
   "source": [
    "# 例如，以数据集中的第一个描述为例\n",
    "example_string = df[\"description\"].values[0]\n",
    "print(f\"\\nExample string: {example_string}\")\n",
    "\n",
    "# 打印嵌入的前10个维度\n",
    "example_embedding = embedding_from_string(example_string)\n",
    "print(f\"\\nExample embedding: {example_embedding[:10]}...\")\n"
   ]
  },
  {
   "cell_type": "markdown",
   "metadata": {},
   "source": [
    "## 根据嵌入向量推荐相似文章\n",
    "\n",
    "要找到类似的文章，让我们遵循一个三步计划：\n",
    "1. 获取所有文章描述的相似度嵌入\n",
    "2. 计算源标题与所有其他文章之间的距离\n",
    "3. 打印出与源标题最接近的其他文章"
   ]
  },
  {
   "cell_type": "code",
   "execution_count": 6,
   "metadata": {},
   "outputs": [],
   "source": [
    "from utils.openai_base_api import translate_text\n",
    "def print_recommendations_from_strings(\n",
    "    strings: list[str],              # 字符串列表\n",
    "    index_of_source_string: int,     # 源字符串在列表中的索引\n",
    "    k_nearest_neighbors: int = 1,    # 需要打印的最近邻数量，默认为1\n",
    "    model=EMBEDDING_MODEL,           # 用于生成嵌入的模型，默认为EMBEDDING_MODEL\n",
    ") -> list[int]:                      # 返回最近邻字符串的索引列表\n",
    "    \"\"\"\n",
    "    根据给定的源字符串，从字符串列表中打印出其k个最近邻。\n",
    "\n",
    "    :return: 包含找到的最近邻字符串索引的列表。\n",
    "    \"\"\"\n",
    "    print(\"正在生成嵌入表示...\")\n",
    "    # 为所有字符串生成嵌入表示\n",
    "    embeddings = [embedding_from_string(string, model=model) for string in strings]\n",
    "    print(\"获取源字符串的嵌入表示...\")\n",
    "    query_embedding = embeddings[index_of_source_string]\n",
    "    print(\"计算源字符串嵌入与其他所有字符串嵌入之间的余弦距离...\")\n",
    "    distances = distances_from_embeddings(query_embedding, embeddings, distance_metric=\"cosine\")\n",
    "    print(\"根据距离找出最近邻的索引...\")\n",
    "    indices_of_nearest_neighbors = indices_of_nearest_neighbors_from_distances(distances)\n",
    "    print(\"打印源字符串信息...\")\n",
    "    query_string = strings[index_of_source_string]\n",
    "    print(f\"源字符串: {query_string}\")\n",
    "    # 为了方便阅读，打印源字符串的翻译\n",
    "    translate_string=translate_text(query_string,\"Chinese\")\n",
    "    print(f\"源字符串翻译: {translate_string}\")\n",
    "    # 打印k个最近邻字符串及其距离\n",
    "    k_counter = 0\n",
    "    for i in indices_of_nearest_neighbors:\n",
    "        # 跳过与源字符串完全相同的匹配项\n",
    "        if query_string == strings[i]:\n",
    "            continue\n",
    "        # 达到k个最近邻后停止打印\n",
    "        if k_counter >= k_nearest_neighbors:\n",
    "            break\n",
    "        k_counter += 1\n",
    "        translate_target_string=translate_text(strings[i],\"Chinese\")\n",
    "        # 输出相似字符串及其距离\n",
    "        print(\n",
    "            f\"\"\"\n",
    "        --- 推荐 #{k_counter} (最近邻第{k_counter}个/{k_nearest_neighbors}个) ---\n",
    "        字符串: {strings[i]}\n",
    "        翻译：{translate_target_string}\n",
    "        距离: {distances[i]:0.3f}\"\"\"\n",
    "        )\n",
    "\n",
    "    return indices_of_nearest_neighbors\n"
   ]
  },
  {
   "cell_type": "code",
   "execution_count": 7,
   "metadata": {},
   "outputs": [
    {
     "name": "stderr",
     "output_type": "stream",
     "text": [
      "<>:1: SyntaxWarning: invalid escape sequence '\\s'\n",
      "<>:1: SyntaxWarning: invalid escape sequence '\\s'\n",
      "C:\\Users\\FB208\\AppData\\Local\\Temp\\ipykernel_19500\\1697224723.py:1: SyntaxWarning: invalid escape sequence '\\s'\n",
      "  translate_string=translate_text(\"Reuters - Wall Street's long-playing drama,\\\"Waiting for Google,\\\" is about to reach its final act, but its\\stock market debut is ending up as more of a nostalgia event\\than the catalyst for a new era.\",\"Chinese\")\n"
     ]
    },
    {
     "name": "stdout",
     "output_type": "stream",
     "text": [
      "源字符串翻译: 路透社 - 华尔街的长期戏剧《等待谷歌》即将迎来最后一幕，但其股票市场首次亮相似乎更像是一场怀旧活动，而非新纪元的催化剂。\n"
     ]
    }
   ],
   "source": [
    "translate_string=translate_text(\"Reuters - Wall Street's long-playing drama,\\\"Waiting for Google,\\\" is about to reach its final act, but its\\stock market debut is ending up as more of a nostalgia event\\than the catalyst for a new era.\",\"Chinese\")\n",
    "print(f\"源字符串翻译: {translate_string}\")"
   ]
  },
  {
   "cell_type": "markdown",
   "metadata": {},
   "source": [
    "## 结果示例\n",
    "\n",
    "让我们寻找与第一篇相似的文章。"
   ]
  },
  {
   "cell_type": "code",
   "execution_count": 8,
   "metadata": {},
   "outputs": [
    {
     "name": "stdout",
     "output_type": "stream",
     "text": [
      "正在生成嵌入表示...\n",
      "获取源字符串的嵌入表示...\n",
      "计算源字符串嵌入与其他所有字符串嵌入之间的余弦距离...\n",
      "根据距离找出最近邻的索引...\n",
      "打印源字符串信息...\n",
      "源字符串: Reuters - Wall Street's long-playing drama,\\\"Waiting for Google,\" is about to reach its final act, but its\\stock market debut is ending up as more of a nostalgia event\\than the catalyst for a new era.\n",
      "源字符串翻译: 路透社 - 华尔街的长篇大戏《等待谷歌》即将迎来其最后一幕，但其股市首次亮相更像是一场怀旧活动，而不是一个引发新时代的催化剂。\n",
      "\n",
      "        --- 推荐 #1 (最近邻第1个/5个) ---\n",
      "        字符串:  NEW YORK (Reuters) - Wall Street's long-playing drama,  \"Waiting for Google,\" is about to reach its final act, but its  stock market debut is ending up as more of a nostalgia event  than the catalyst for a new era.\n",
      "        翻译：纽约（路透社）- 华尔街的长篇剧作“等待谷歌”即将迎来最后一幕，但它的股市首秀却更像是一场怀旧活动，而非新纪元的催化剂。\n",
      "        距离: 0.065\n",
      "\n",
      "        --- 推荐 #2 (最近邻第2个/5个) ---\n",
      "        字符串:  WASHINGTON/NEW YORK (Reuters) - The auction for Google  Inc.'s highly anticipated initial public offering got off to a  rocky start on Friday after the Web search company sidestepped  a bullet from U.S. securities regulators.\n",
      "        翻译：华盛顿/纽约（路透社） - 谷歌公司备受期待的首次公开募股拍卖在周五开始时遇到了波折，此前这家网络搜索公司成功避过了美国证券监管机构的危机。\n",
      "        距离: 0.419\n",
      "\n",
      "        --- 推荐 #3 (最近邻第3个/5个) ---\n",
      "        字符串: Reuters - Short-sellers, Wall Street's dwindling\\band of ultra-cynics, are seeing green again.\n",
      "        翻译：路透社 - 做空者，华尔街不断减少的极端悲观者群体，最近又看到绿色的希望。\n",
      "        距离: 0.510\n",
      "\n",
      "        --- 推荐 #4 (最近邻第4个/5个) ---\n",
      "        字符串: Reuters - Stocks ended slightly higher on Friday\\but stayed near lows for the year as oil prices surged past  #36;46\\a barrel, offsetting a positive outlook from computer maker\\Dell Inc. (DELL.O)\n",
      "        翻译：路透社 - 周五股市小幅上涨，但仍接近今年低点，因为油价飙升至每桶46美元，抵消了电脑制造商戴尔（Dell Inc.，股票代码：DELL.O）的积极前景。\n",
      "        距离: 0.524\n",
      "\n",
      "        --- 推荐 #5 (最近邻第5个/5个) ---\n",
      "        字符串:  NEW YORK (Reuters) - Short-sellers, Wall Street's dwindling  band of ultra-cynics, are seeing green again.\n",
      "        翻译：纽约（路透社） - 做空者，华尔街这小群极端怀疑论者，重新看到了希望。\n",
      "        距离: 0.559\n"
     ]
    }
   ],
   "source": [
    "# [:20]是取前20条数据，否则等待时间太长了\n",
    "article_descriptions = df[\"description\"].tolist()[:20]\n",
    "\n",
    "tony_blair_articles = print_recommendations_from_strings(\n",
    "    strings=article_descriptions,  # 让我们根据文章描述建立相似性\n",
    "    index_of_source_string=0,  # 类似于第一篇关于托尼·布莱尔的文章\n",
    "    k_nearest_neighbors=5,  # 5篇最相似的文章\n",
    ")\n"
   ]
  },
  {
   "attachments": {},
   "cell_type": "markdown",
   "metadata": {},
   "source": [
    "相当不错！5 条推荐中有 3 条明确提到了华尔街，一条提到了谷歌，一条提到了股市，都是和第一条内容相关的"
   ]
  },
  {
   "cell_type": "markdown",
   "metadata": {},
   "source": [
    "让我们看看我们的推荐系统在第二篇关于 NVIDIA 新芯片组增强安全性的文章上的表现如何。"
   ]
  },
  {
   "cell_type": "code",
   "execution_count": 9,
   "metadata": {},
   "outputs": [
    {
     "name": "stdout",
     "output_type": "stream",
     "text": [
      "正在生成嵌入表示...\n",
      "获取源字符串的嵌入表示...\n",
      "计算源字符串嵌入与其他所有字符串嵌入之间的余弦距离...\n",
      "根据距离找出最近邻的索引...\n",
      "打印源字符串信息...\n",
      "源字符串: AFP - Tearaway world oil prices, toppling records and straining wallets, present a new economic menace barely three months before the US presidential elections.\n",
      "源字符串翻译: 法新社 - 世界油价飞涨，打破纪录并给钱包带来压力，在美国总统选举前不到三个月的时间里，呈现出一种新的经济威胁。\n",
      "\n",
      "        --- 推荐 #1 (最近邻第1个/5个) ---\n",
      "        字符串: Reuters - Soaring crude prices plus worries\\about the economy and the outlook for earnings are expected to\\hang over the stock market next week during the depth of the\\summer doldrums.\n",
      "        翻译：路透社 - 原油价格飙升，加上对经济和盈利前景的担忧，预计将影响下周股市的表现，正值夏季淡季的深处。\n",
      "        距离: 0.434\n",
      "\n",
      "        --- 推荐 #2 (最近邻第2个/5个) ---\n",
      "        字符串:  NEW YORK (Reuters) - Soaring crude prices plus worries  about the economy and the outlook for earnings are expected to  hang over the stock market next week during the depth of the  summer doldrums.\n",
      "        翻译：纽约（路透社）- 猛增的原油价格加上对经济和盈利前景的担忧，预计将在下周的夏季低迷期压制股市。\n",
      "        距离: 0.463\n",
      "\n",
      "        --- 推荐 #3 (最近邻第3个/5个) ---\n",
      "        字符串:  NEW YORK (Reuters) - The dollar tumbled broadly on Friday  after data showing a record U.S. trade deficit in June cast  fresh doubts on the economy's recovery and its ability to draw  foreign capital to fund the growing gap.\n",
      "        翻译：纽约（路透社） - 周五，美元大幅下跌，因数据显示6月份美国贸易逆差创下历史新高，这对经济复苏及其吸引外资以弥补不断扩大的缺口的能力投下了新的疑问。\n",
      "        距离: 0.556\n",
      "\n",
      "        --- 推荐 #4 (最近邻第4个/5个) ---\n",
      "        字符串:  TEHRAN (Reuters) - OPEC can do nothing to douse scorching  oil prices when markets are already oversupplied by 2.8 million  barrels per day (bpd) of crude, Iran's OPEC governor said  Saturday, warning that prices could fall sharply.\n",
      "        翻译：德黑兰（路透社） - 伊朗的OPEC代表周六表示，当市场已经过剩每日280万桶原油时，OPEC对于抑制飙升的油价无能为力，并警告称价格可能会大幅下跌。\n",
      "        距离: 0.581\n",
      "\n",
      "        --- 推荐 #5 (最近邻第5个/5个) ---\n",
      "        字符串: Reuters - Stocks ended slightly higher on Friday\\but stayed near lows for the year as oil prices surged past  #36;46\\a barrel, offsetting a positive outlook from computer maker\\Dell Inc. (DELL.O)\n",
      "        翻译：路透社 - 周五股票小幅上涨，但仍接近年内低点，因为油价突破每桶46美元，这抵消了电脑制造商戴尔公司（DELL.O）发布的乐观前景。\n",
      "        距离: 0.581\n"
     ]
    }
   ],
   "source": [
    "chipset_security_articles = print_recommendations_from_strings(\n",
    "    strings=article_descriptions,  # let's base similarity off of the article description\n",
    "    index_of_source_string=5,  # let's look at articles similar to the second one about a more secure chipset\n",
    "    k_nearest_neighbors=5,  # let's look at the 5 most similar articles\n",
    ")\n"
   ]
  },
  {
   "attachments": {},
   "cell_type": "markdown",
   "metadata": {},
   "source": [
    "从打印的距离中，你可以看到#1 推荐项比其他所有项都要近得多（0.434 vs 0.5x）。而且#1 推荐项与起始文章看起来非常相似。"
   ]
  }
 ],
 "metadata": {
  "interpreter": {
   "hash": "365536dcbde60510dc9073d6b991cd35db2d9bac356a11f5b64279a5e6708b97"
  },
  "kernelspec": {
   "display_name": "Python 3.9.9 64-bit ('openai': virtualenv)",
   "language": "python",
   "name": "python3"
  },
  "language_info": {
   "codemirror_mode": {
    "name": "ipython",
    "version": 3
   },
   "file_extension": ".py",
   "mimetype": "text/x-python",
   "name": "python",
   "nbconvert_exporter": "python",
   "pygments_lexer": "ipython3",
   "version": "3.12.1"
  },
  "orig_nbformat": 4
 },
 "nbformat": 4,
 "nbformat_minor": 2
}
