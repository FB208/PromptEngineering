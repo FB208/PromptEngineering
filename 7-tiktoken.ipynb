{
 "cells": [
  {
   "cell_type": "markdown",
   "metadata": {},
   "source": [
    "tiktoken 是由 OpenAI 开发的一个快速开源的分词器。\n",
    "\n",
    "给定一个文本字符串（例如，`tiktoken is great!`）和一个编码方式（例如，`cl100k_base`），分词器可以将该文本字符串拆分为一系列的词元（例如，`[\"t\", \"ik\", \"token\", \" is\", \" great\", \"!\"]`）。\n",
    "\n",
    "将文本字符串拆分为标记（tokens）非常有用，因为 GPT 模型以标记的形式处理文本。\n",
    "\n",
    "了解一个文本字符串中有多少个标记可以告诉你：\n",
    "- 该字符串是否过长以至于模型无法处理\n",
    "- 一次 OpenAI API 调用的成本（因为使用量是按标记计费的）。\n",
    "\n",
    "# Encodings编码\n",
    "编码规定了文本如何转换为标记。不同的模型采用不同的编码方式。\n",
    "tiktoken 支持 OpenAI 模型使用的三种编码：\n",
    "\n",
    "| Encoding name 编码名称 | OpenAI models OpenAI 模型 |\n",
    "| ---- | ---- |\n",
    "| cl100k_base | gpt-4, gpt-3.5-turbo, text-embedding-ada-002, text-embedding-3-small, text-embedding-3-large |\n",
    "| p50k_base | Codex models, text-davinci-002, text-davinci-003 |\n",
    "| r50k_base (or gpt2) r50k_base（或 gpt2） | GPT-3 models like davinci 像 davinci 这样的 GPT-3 模型 |\n",
    "\n",
    "\n",
    "<br />\n",
    "\n",
    "> 尽管tiktoken仅被设计来预估OpenAI API调用的开销，但它也适用于其他GPT模型。  \n",
    "> 并非所有大模型API都提供了类似tiktoken的分词器，在此情况下使用tiktoken同样可以获得近似的效果。"
   ]
  },
  {
   "cell_type": "code",
   "execution_count": null,
   "metadata": {},
   "outputs": [],
   "source": [
    "%pip install --upgrade tiktoken\n",
    "%pip install --upgrade openai"
   ]
  },
  {
   "cell_type": "code",
   "execution_count": 9,
   "metadata": {},
   "outputs": [
    {
     "name": "stdout",
     "output_type": "stream",
     "text": [
      "[83, 1609, 5963, 374, 2294, 0]\n",
      "6\n",
      "tiktoken is great!\n",
      "[b't', b'ik', b'token', b' is', b' great', b'!']\n"
     ]
    }
   ],
   "source": [
    "import tiktoken\n",
    "\n",
    "# 按编码名称来加载\n",
    "encoding = tiktoken.get_encoding(\"cl100k_base\")\n",
    "# 按照模型名称自动获取编码\n",
    "# encoding = tiktoken.encoding_for_model(\"gpt-4o-mini\")\n",
    "\n",
    "# 字符串转为整数列表\n",
    "siz = encoding.encode(\"tiktoken is great!\")\n",
    "print(siz)\n",
    "\n",
    "# 计算token长度\n",
    "num_tokens = len(siz)\n",
    "print(num_tokens)\n",
    "\n",
    "# 还可以将整数列表转回字符串 - 该方法用来转换单个标记，可能会失真\n",
    "print(encoding.decode([83, 1609, 5963, 374, 2294, 0]))\n",
    "\n",
    "# 一种更稳定的将单个标记整数转换为字符串的方法\n",
    "print([encoding.decode_single_token_bytes(token) for token in [83, 1609, 5963, 374, 2294, 0]])\n",
    "\n",
    "#（字符串前的 b 表示这些字符串是字节字符串。）"
   ]
  }
 ],
 "metadata": {
  "kernelspec": {
   "display_name": "openai-env",
   "language": "python",
   "name": "python3"
  },
  "language_info": {
   "codemirror_mode": {
    "name": "ipython",
    "version": 3
   },
   "file_extension": ".py",
   "mimetype": "text/x-python",
   "name": "python",
   "nbconvert_exporter": "python",
   "pygments_lexer": "ipython3",
   "version": "3.12.1"
  }
 },
 "nbformat": 4,
 "nbformat_minor": 2
}
