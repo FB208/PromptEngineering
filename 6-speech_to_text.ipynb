{
 "cells": [
  {
   "cell_type": "code",
   "execution_count": 2,
   "metadata": {},
   "outputs": [
    {
     "name": "stdout",
     "output_type": "stream",
     "text": [
      "十围九月,续数三秋,老水尽而寒潭清,烟光凝而暮山紫。\n"
     ]
    }
   ],
   "source": [
    "from openai import OpenAI\n",
    "client = OpenAI()\n",
    "\n",
    "audio_file= open(\"./archive/speech.m4a\", \"rb\")\n",
    "transcription = client.audio.transcriptions.create(\n",
    "  model=\"whisper-1\", \n",
    "  file=audio_file\n",
    ")\n",
    "print(transcription.text)\n",
    "\n"
   ]
  },
  {
   "cell_type": "code",
   "execution_count": 5,
   "metadata": {},
   "outputs": [
    {
     "name": "stdout",
     "output_type": "stream",
     "text": [
      "十围九月,续数三秋,老水尽而寒潭清,烟光凝而暮山紫。\n",
      "ChatCompletion(id='chatcmpl-9zIumXM2Eq4yNNV1kcYO0nTU2dJHH', choices=[Choice(finish_reason='stop', index=0, logprobs=None, message=ChatCompletionMessage(content='十围九塞，续短随手，老树昏鸦，小桥流水人家，古道西风瘦马。夕阳西下，断肠人在天涯。', refusal=None, role='assistant', function_call=None, tool_calls=None))], created=1724397744, model='gpt-4-0613', object='chat.completion', service_tier=None, system_fingerprint=None, usage=CompletionUsage(completion_tokens=61, prompt_tokens=128, total_tokens=189))\n"
     ]
    }
   ],
   "source": [
    "def transcribe(file):\n",
    "    audio_file= open(\"./archive/20240812-151125.mp3\", \"rb\")\n",
    "    transcription = client.audio.transcriptions.create(\n",
    "    model=\"whisper-1\", \n",
    "    file=audio_file\n",
    "    )\n",
    "    print(transcription.text)\n",
    "    return transcription.text\n",
    "\n",
    "system_prompt = \"你是专业的听写助手，你收到的内容是由语音识别出来的，很可能出现识别不准确的情况，你的任务是检查收到的文字，转换为正确的文字，不要用任何文字修饰，直接输出文字\"\n",
    "\n",
    "def generate_corrected_transcript(temperature, system_prompt):\n",
    "    response = client.chat.completions.create(\n",
    "        model=\"gpt-4o\",\n",
    "        temperature=temperature,\n",
    "        messages=[\n",
    "            {\n",
    "                \"role\": \"system\",\n",
    "                \"content\": system_prompt\n",
    "            },\n",
    "            {\n",
    "                \"role\": \"user\",\n",
    "                \"content\": transcribe(audio_file)\n",
    "            }\n",
    "        ]\n",
    "    )\n",
    "    print(response)\n",
    "    return response.choices[0].message.content\n",
    "\n",
    "corrected_text = generate_corrected_transcript(0, system_prompt)"
   ]
  }
 ],
 "metadata": {
  "kernelspec": {
   "display_name": "openai-env",
   "language": "python",
   "name": "python3"
  },
  "language_info": {
   "codemirror_mode": {
    "name": "ipython",
    "version": 3
   },
   "file_extension": ".py",
   "mimetype": "text/x-python",
   "name": "python",
   "nbconvert_exporter": "python",
   "pygments_lexer": "ipython3",
   "version": "3.12.1"
  }
 },
 "nbformat": 4,
 "nbformat_minor": 2
}
