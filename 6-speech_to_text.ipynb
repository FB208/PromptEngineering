{
 "cells": [
  {
   "cell_type": "code",
   "execution_count": 1,
   "metadata": {},
   "outputs": [
    {
     "name": "stdout",
     "output_type": "stream",
     "text": [
      "十围九月,续数三秋,老水尽而寒潭清,烟光凝而暮山紫。\n"
     ]
    }
   ],
   "source": [
    "from openai import OpenAI\n",
    "client = OpenAI()\n",
    "\n",
    "audio_file= open(\"./archive/speech.m4a\", \"rb\")\n",
    "transcription = client.audio.transcriptions.create(\n",
    "  model=\"whisper-1\", \n",
    "  file=audio_file\n",
    ")\n",
    "print(transcription.text)\n",
    "\n"
   ]
  },
  {
   "cell_type": "code",
   "execution_count": 6,
   "metadata": {},
   "outputs": [
    {
     "name": "stdout",
     "output_type": "stream",
     "text": [
      "好吧 并且附赠10万个算力的头文 拿来就能够用 就可以试炼 就可以试操 你想 获得想要的所有的素材 图片 漂亮的文字 漂亮的文字 漂亮的图片 音频 还有咱们的这样的视频 通通都可以实现的家人们 这个就是人工智能给咱们带来的所有的要素 如果 直播间家人们 你们想学习人工智能 一定要掌握两个要素 第一个要素什么呀 一定要掌握学习人工智能的思维 告诉大家 学习人工智能的思维一定要持续不断的学习 第二个要素是什么 一定要上手去实操 去实践人工智能 只有这样的话 你们才能在人工智能道路上走的又快又好 好了 这些福利呢 周老直播下播之后 第一时间给大家安排 只需要直播间家人们给周老点个关注 亮个黄心 点击下方的小风车 然后填写相关的信息 周老下播之后 第一时间给大家安排这些福利 好了\n",
      "ChatCompletion(id='chatcmpl-9vJVUtkavIAbngxuOjVl21RD81tDr', choices=[Choice(finish_reason='stop', index=0, logprobs=None, message=ChatCompletionMessage(content='好吧，并且附赠10万个算力的头文，拿来就能够用，就可以试炼，就可以实操。你想获得想要的所有的素材，图片，漂亮的文字，漂亮的图片，音频，还有咱们的这样的视频，通通都可以实现的，家人们，这个就是人工智能给咱们带来的所有的要素。如果直播间家人们你们想学习人工智能，一定要掌握两个要素。第一个要素是什么呀？一定要掌握学习人工智能的思维，告诉大家，学习人工智能的思维一定要持续不断的学习。第二个要素是什么？一定要上手去实操，去实践人工智能。只有这样的话，你们才能在人工智能道路上走得又快又好。好了，这些福利呢，周老直播下播之后第一时间给大家安排。只需要直播间家人们给周老点个关注，亮个黄心，点击下方的小风车，然后填写相关的信息，周老下播之后第一时间给大家安排这些福利。好了。', role='assistant', function_call=None, tool_calls=None, refusal=None))], created=1723446708, model='gpt-4o-2024-05-13', object='chat.completion', service_tier=None, system_fingerprint='fp_3aa7262c27', usage=CompletionUsage(completion_tokens=238, prompt_tokens=309, total_tokens=547))\n"
     ]
    }
   ],
   "source": [
    "def transcribe(file):\n",
    "    audio_file= open(\"./archive/20240812-151125.mp3\", \"rb\")\n",
    "    transcription = client.audio.transcriptions.create(\n",
    "    model=\"whisper-1\", \n",
    "    file=audio_file\n",
    "    )\n",
    "    print(transcription.text)\n",
    "    return transcription.text\n",
    "\n",
    "system_prompt = \"你是专业的听写助手，你收到的内容是由语音识别出来的，很可能出现识别不准确的情况，你的任务是检查收到的文字，转换为正确的文字，不要用任何文字修饰，直接输出文字\"\n",
    "\n",
    "def generate_corrected_transcript(temperature, system_prompt):\n",
    "    response = client.chat.completions.create(\n",
    "        model=\"gpt-4o\",\n",
    "        temperature=temperature,\n",
    "        messages=[\n",
    "            {\n",
    "                \"role\": \"system\",\n",
    "                \"content\": system_prompt\n",
    "            },\n",
    "            {\n",
    "                \"role\": \"user\",\n",
    "                \"content\": transcribe(audio_file)\n",
    "            }\n",
    "        ]\n",
    "    )\n",
    "    print(response)\n",
    "    return response.choices[0].message.content\n",
    "\n",
    "corrected_text = generate_corrected_transcript(0, system_prompt)"
   ]
  }
 ],
 "metadata": {
  "kernelspec": {
   "display_name": "openai-env",
   "language": "python",
   "name": "python3"
  },
  "language_info": {
   "codemirror_mode": {
    "name": "ipython",
    "version": 3
   },
   "file_extension": ".py",
   "mimetype": "text/x-python",
   "name": "python",
   "nbconvert_exporter": "python",
   "pygments_lexer": "ipython3",
   "version": "3.12.1"
  }
 },
 "nbformat": 4,
 "nbformat_minor": 2
}
